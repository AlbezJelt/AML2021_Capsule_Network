{
 "cells": [
  {
   "cell_type": "markdown",
   "source": [
    "# Original CapsNet Model Test\n",
    "\n",
    "In this notebook we provide a simple interface to test the original CapsNet model described in \"Dynamic routinig between capsules\". The model is copycat of the original Sara's repository (https://github.com/Sarasra/models/tree/master/research/capsules) and also the weights, provided with our repository, are derived from the original ones. "
   ],
   "metadata": {}
  },
  {
   "cell_type": "code",
   "execution_count": 1,
   "source": [
    "%load_ext autoreload\n",
    "%autoreload 2"
   ],
   "outputs": [],
   "metadata": {
    "ExecuteTime": {
     "end_time": "2021-01-25T22:03:01.755485Z",
     "start_time": "2021-01-25T22:03:01.745674Z"
    }
   }
  },
  {
   "cell_type": "code",
   "execution_count": 2,
   "source": [
    "import tensorflow as tf\n",
    "from utils import Dataset, plotWrongImages\n",
    "from models import CapsNet"
   ],
   "outputs": [],
   "metadata": {
    "ExecuteTime": {
     "end_time": "2021-01-25T22:03:03.310938Z",
     "start_time": "2021-01-25T22:03:02.045618Z"
    }
   }
  },
  {
   "cell_type": "code",
   "execution_count": 3,
   "source": [
    "gpus = tf.config.experimental.list_physical_devices('GPU')\n",
    "tf.config.experimental.set_visible_devices(gpus[0], 'GPU')\n",
    "tf.config.experimental.set_memory_growth(gpus[0], True)"
   ],
   "outputs": [],
   "metadata": {
    "ExecuteTime": {
     "end_time": "2021-01-25T22:03:03.373518Z",
     "start_time": "2021-01-25T22:03:03.328301Z"
    }
   }
  },
  {
   "cell_type": "code",
   "execution_count": 4,
   "source": [
    "model_name = 'PATCH_CAMELYON' \n",
    "n_routing = 3"
   ],
   "outputs": [],
   "metadata": {
    "ExecuteTime": {
     "end_time": "2021-01-25T22:03:04.829181Z",
     "start_time": "2021-01-25T22:03:04.805968Z"
    }
   }
  },
  {
   "cell_type": "markdown",
   "source": [
    "# 1.0 Import the Dataset"
   ],
   "metadata": {}
  },
  {
   "cell_type": "code",
   "execution_count": 5,
   "source": [
    "dataset = Dataset(model_name, config_path='config.json', isTest=True) # only MNIST"
   ],
   "outputs": [
    {
     "output_type": "stream",
     "name": "stdout",
     "text": [
      "[INFO] Dataset loaded!\n"
     ]
    }
   ],
   "metadata": {
    "ExecuteTime": {
     "end_time": "2021-01-25T22:03:08.790666Z",
     "start_time": "2021-01-25T22:03:08.483172Z"
    }
   }
  },
  {
   "cell_type": "markdown",
   "source": [
    "# 2.0 Load the Model"
   ],
   "metadata": {}
  },
  {
   "cell_type": "code",
   "execution_count": 6,
   "source": [
    "model_test = CapsNet(model_name, mode='test', verbose=True, n_routing=n_routing)"
   ],
   "outputs": [
    {
     "output_type": "stream",
     "name": "stdout",
     "text": [
      "Model: \"Original_CapsNet\"\n",
      "__________________________________________________________________________________________________\n",
      "Layer (type)                    Output Shape         Param #     Connected to                     \n",
      "==================================================================================================\n",
      "input_4 (InputLayer)            [(None, 48, 48, 3)]  0                                            \n",
      "__________________________________________________________________________________________________\n",
      "conv2d (Conv2D)                 (None, 40, 40, 256)  62464       input_4[0][0]                    \n",
      "__________________________________________________________________________________________________\n",
      "primary_caps (PrimaryCaps)      (None, 16, 16, 32, 8 5308672     conv2d[0][0]                     \n",
      "__________________________________________________________________________________________________\n",
      "digit_caps (DigitCaps)          (None, 2, 16)        2097184     primary_caps[0][0]               \n",
      "__________________________________________________________________________________________________\n",
      "tf.reshape (TFOpLambda)         (None, 8192, 8)      0           primary_caps[0][0]               \n",
      "__________________________________________________________________________________________________\n",
      "capsnet_output_len (Length)     (None, 2)            0           digit_caps[0][0]                 \n",
      "==================================================================================================\n",
      "Total params: 7,468,320\n",
      "Trainable params: 7,468,320\n",
      "Non-trainable params: 0\n",
      "__________________________________________________________________________________________________\n",
      "\n",
      "\n",
      "\n",
      "Model: \"Generator\"\n",
      "_________________________________________________________________\n",
      "Layer (type)                 Output Shape              Param #   \n",
      "=================================================================\n",
      "input_5 (InputLayer)         [(None, 32)]              0         \n",
      "_________________________________________________________________\n",
      "dense (Dense)                (None, 512)               16896     \n",
      "_________________________________________________________________\n",
      "dense_1 (Dense)              (None, 1024)              525312    \n",
      "_________________________________________________________________\n",
      "dense_2 (Dense)              (None, 6912)              7084800   \n",
      "_________________________________________________________________\n",
      "out_generator (Reshape)      (None, 48, 48, 3)         0         \n",
      "=================================================================\n",
      "Total params: 7,627,008\n",
      "Trainable params: 7,627,008\n",
      "Non-trainable params: 0\n",
      "_________________________________________________________________\n",
      "\n",
      "\n",
      "\n"
     ]
    }
   ],
   "metadata": {
    "ExecuteTime": {
     "end_time": "2021-01-25T22:03:15.707231Z",
     "start_time": "2021-01-25T22:03:14.733048Z"
    }
   }
  },
  {
   "cell_type": "code",
   "execution_count": 7,
   "source": [
    "model_test.load_graph_weights() # load graph weights (bin folder)"
   ],
   "outputs": [],
   "metadata": {}
  },
  {
   "cell_type": "markdown",
   "source": [
    "# 3.0 Test the Model"
   ],
   "metadata": {}
  },
  {
   "cell_type": "code",
   "execution_count": 8,
   "source": [
    "model_test.evaluate(dataset.tf_test) # patch_camelyon uses a dataset from tf.data.Dataset class"
   ],
   "outputs": [
    {
     "output_type": "stream",
     "name": "stdout",
     "text": [
      "------------------------------PATCH_CAMELYON Evaluation------------------------------\n",
      "Test acc: 0.8017578125\n",
      "Test error [%]: 19.8242%\n",
      "N° misclassified images: 6496 out of 32768\n"
     ]
    }
   ],
   "metadata": {
    "ExecuteTime": {
     "end_time": "2021-01-25T22:03:25.415576Z",
     "start_time": "2021-01-25T22:03:18.826201Z"
    }
   }
  }
 ],
 "metadata": {
  "kernelspec": {
   "name": "python3",
   "display_name": "Python 3.6.9 64-bit"
  },
  "language_info": {
   "codemirror_mode": {
    "name": "ipython",
    "version": 3
   },
   "file_extension": ".py",
   "mimetype": "text/x-python",
   "name": "python",
   "nbconvert_exporter": "python",
   "pygments_lexer": "ipython3",
   "version": "3.6.9"
  },
  "toc": {
   "base_numbering": 1,
   "nav_menu": {},
   "number_sections": false,
   "sideBar": true,
   "skip_h1_title": false,
   "title_cell": "Table of Contents",
   "title_sidebar": "Contents",
   "toc_cell": false,
   "toc_position": {},
   "toc_section_display": true,
   "toc_window_display": false
  },
  "varInspector": {
   "cols": {
    "lenName": 16,
    "lenType": 16,
    "lenVar": 40
   },
   "kernels_config": {
    "python": {
     "delete_cmd_postfix": "",
     "delete_cmd_prefix": "del ",
     "library": "var_list.py",
     "varRefreshCmd": "print(var_dic_list())"
    },
    "r": {
     "delete_cmd_postfix": ") ",
     "delete_cmd_prefix": "rm(",
     "library": "var_list.r",
     "varRefreshCmd": "cat(var_dic_list()) "
    }
   },
   "types_to_exclude": [
    "module",
    "function",
    "builtin_function_or_method",
    "instance",
    "_Feature"
   ],
   "window_display": false
  },
  "interpreter": {
   "hash": "31f2aee4e71d21fbe5cf8b01ff0e069b9275f58929596ceb00d14d90e3e16cd6"
  }
 },
 "nbformat": 4,
 "nbformat_minor": 4
}