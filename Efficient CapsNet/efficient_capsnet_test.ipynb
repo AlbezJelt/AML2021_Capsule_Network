{
 "cells": [
  {
   "cell_type": "markdown",
   "source": [
    "# Efficient-CapsNet Model Test\n",
    "\n",
    "In this notebook we provide a simple interface to test the different trained Efficient-CapsNet models."
   ],
   "metadata": {}
  },
  {
   "cell_type": "code",
   "execution_count": 1,
   "source": [
    "%load_ext autoreload\n",
    "%autoreload 2"
   ],
   "outputs": [],
   "metadata": {
    "ExecuteTime": {
     "end_time": "2021-01-28T11:41:58.373412Z",
     "start_time": "2021-01-28T11:41:58.363228Z"
    }
   }
  },
  {
   "cell_type": "code",
   "execution_count": 2,
   "source": [
    "import tensorflow as tf\n",
    "from utils import Dataset, plotImages, plotWrongImages\n",
    "from models import EfficientCapsNet"
   ],
   "outputs": [],
   "metadata": {
    "ExecuteTime": {
     "end_time": "2021-01-28T11:41:59.830381Z",
     "start_time": "2021-01-28T11:41:58.518850Z"
    }
   }
  },
  {
   "cell_type": "code",
   "execution_count": 3,
   "source": [
    "gpus = tf.config.experimental.list_physical_devices('GPU')\n",
    "tf.config.experimental.set_visible_devices(gpus[0], 'GPU')\n",
    "tf.config.experimental.set_memory_growth(gpus[0], True)"
   ],
   "outputs": [],
   "metadata": {
    "ExecuteTime": {
     "end_time": "2021-01-28T11:41:59.996970Z",
     "start_time": "2021-01-28T11:41:59.950246Z"
    }
   }
  },
  {
   "cell_type": "code",
   "execution_count": 4,
   "source": [
    "model_name = 'PATCH_CAMELYON' "
   ],
   "outputs": [],
   "metadata": {
    "ExecuteTime": {
     "end_time": "2021-01-28T11:42:00.142494Z",
     "start_time": "2021-01-28T11:42:00.125521Z"
    }
   }
  },
  {
   "cell_type": "markdown",
   "source": [
    "# 1.0 Import the Dataset"
   ],
   "metadata": {}
  },
  {
   "cell_type": "code",
   "execution_count": 5,
   "source": [
    "dataset = Dataset(model_name, config_path='config.json', isTest=True)"
   ],
   "outputs": [
    {
     "output_type": "stream",
     "name": "stdout",
     "text": [
      "[INFO] Dataset loaded!\n"
     ]
    }
   ],
   "metadata": {
    "ExecuteTime": {
     "end_time": "2021-01-28T11:42:00.661886Z",
     "start_time": "2021-01-28T11:42:00.264393Z"
    }
   }
  },
  {
   "cell_type": "markdown",
   "source": [
    "# 2.0 Load the Model"
   ],
   "metadata": {}
  },
  {
   "cell_type": "code",
   "execution_count": 6,
   "source": [
    "model_test = EfficientCapsNet(model_name, mode='test', verbose=True)"
   ],
   "outputs": [
    {
     "output_type": "stream",
     "name": "stdout",
     "text": [
      "Model: \"Efficient_CapsNet\"\n",
      "_________________________________________________________________\n",
      "Layer (type)                 Output Shape              Param #   \n",
      "=================================================================\n",
      "input_3 (InputLayer)         [(None, 48, 48, 3)]       0         \n",
      "_________________________________________________________________\n",
      "conv2d (Conv2D)              (None, 21, 21, 32)        4736      \n",
      "_________________________________________________________________\n",
      "leaky_re_lu (LeakyReLU)      (None, 21, 21, 32)        0         \n",
      "_________________________________________________________________\n",
      "instance_normalization (Inst (None, 21, 21, 32)        64        \n",
      "_________________________________________________________________\n",
      "conv2d_1 (Conv2D)            (None, 19, 19, 64)        18496     \n",
      "_________________________________________________________________\n",
      "leaky_re_lu_1 (LeakyReLU)    (None, 19, 19, 64)        0         \n",
      "_________________________________________________________________\n",
      "instance_normalization_1 (In (None, 19, 19, 64)        128       \n",
      "_________________________________________________________________\n",
      "conv2d_2 (Conv2D)            (None, 17, 17, 64)        36928     \n",
      "_________________________________________________________________\n",
      "leaky_re_lu_2 (LeakyReLU)    (None, 17, 17, 64)        0         \n",
      "_________________________________________________________________\n",
      "instance_normalization_2 (In (None, 17, 17, 64)        128       \n",
      "_________________________________________________________________\n",
      "conv2d_3 (Conv2D)            (None, 8, 8, 128)         73856     \n",
      "_________________________________________________________________\n",
      "leaky_re_lu_3 (LeakyReLU)    (None, 8, 8, 128)         0         \n",
      "_________________________________________________________________\n",
      "instance_normalization_3 (In (None, 8, 8, 128)         256       \n",
      "_________________________________________________________________\n",
      "primary_caps (PrimaryCaps)   (None, 16, 8)             8320      \n",
      "_________________________________________________________________\n",
      "fc_caps (FCCaps)             (None, 2, 16)             4128      \n",
      "_________________________________________________________________\n",
      "length_capsnet_output (Lengt (None, 2)                 0         \n",
      "=================================================================\n",
      "Total params: 147,040\n",
      "Trainable params: 147,040\n",
      "Non-trainable params: 0\n",
      "_________________________________________________________________\n",
      "\n",
      "\n",
      "\n",
      "Model: \"Generator\"\n",
      "_________________________________________________________________\n",
      "Layer (type)                 Output Shape              Param #   \n",
      "=================================================================\n",
      "input_4 (InputLayer)         [(None, 32)]              0         \n",
      "_________________________________________________________________\n",
      "dense (Dense)                (None, 64)                2112      \n",
      "_________________________________________________________________\n",
      "reshape (Reshape)            (None, 8, 8, 1)           0         \n",
      "_________________________________________________________________\n",
      "up_sampling2d (UpSampling2D) (None, 16, 16, 1)         0         \n",
      "_________________________________________________________________\n",
      "conv2d_4 (Conv2D)            (None, 14, 14, 64)        640       \n",
      "_________________________________________________________________\n",
      "up_sampling2d_1 (UpSampling2 (None, 28, 28, 64)        0         \n",
      "_________________________________________________________________\n",
      "conv2d_5 (Conv2D)            (None, 26, 26, 128)       73856     \n",
      "_________________________________________________________________\n",
      "up_sampling2d_2 (UpSampling2 (None, 52, 52, 128)       0         \n",
      "_________________________________________________________________\n",
      "conv2d_6 (Conv2D)            (None, 50, 50, 128)       147584    \n",
      "_________________________________________________________________\n",
      "conv2d_7 (Conv2D)            (None, 48, 48, 3)         3459      \n",
      "=================================================================\n",
      "Total params: 227,651\n",
      "Trainable params: 227,651\n",
      "Non-trainable params: 0\n",
      "_________________________________________________________________\n",
      "\n",
      "\n",
      "\n"
     ]
    }
   ],
   "metadata": {
    "ExecuteTime": {
     "end_time": "2021-01-28T11:42:05.403496Z",
     "start_time": "2021-01-28T11:42:04.400136Z"
    },
    "scrolled": false
   }
  },
  {
   "cell_type": "code",
   "execution_count": 7,
   "source": [
    "model_test.load_graph_weights() # load graph weights (bin folder)"
   ],
   "outputs": [],
   "metadata": {}
  },
  {
   "cell_type": "markdown",
   "source": [
    "# 3.0 Test the Model"
   ],
   "metadata": {}
  },
  {
   "cell_type": "code",
   "execution_count": 8,
   "source": [
    "model_test.evaluate(dataset.tf_test) # if \"smallnorb\" use X_test_patch"
   ],
   "outputs": [
    {
     "output_type": "stream",
     "name": "stdout",
     "text": [
      "------------------------------PATCH_CAMELYON Evaluation------------------------------\n",
      "Test acc: 0.826446533203125\n",
      "Test error [%]: 17.3553%\n",
      "N° misclassified images: 5687 out of 32768\n"
     ]
    }
   ],
   "metadata": {
    "ExecuteTime": {
     "end_time": "2021-01-28T13:40:17.928045Z",
     "start_time": "2021-01-28T13:23:09.382359Z"
    },
    "scrolled": false
   }
  }
 ],
 "metadata": {
  "kernelspec": {
   "name": "python3",
   "display_name": "Python 3.6.9 64-bit"
  },
  "language_info": {
   "codemirror_mode": {
    "name": "ipython",
    "version": 3
   },
   "file_extension": ".py",
   "mimetype": "text/x-python",
   "name": "python",
   "nbconvert_exporter": "python",
   "pygments_lexer": "ipython3",
   "version": "3.6.9"
  },
  "toc": {
   "base_numbering": 1,
   "nav_menu": {},
   "number_sections": false,
   "sideBar": true,
   "skip_h1_title": false,
   "title_cell": "Table of Contents",
   "title_sidebar": "Contents",
   "toc_cell": false,
   "toc_position": {},
   "toc_section_display": true,
   "toc_window_display": false
  },
  "varInspector": {
   "cols": {
    "lenName": 16,
    "lenType": 16,
    "lenVar": 40
   },
   "kernels_config": {
    "python": {
     "delete_cmd_postfix": "",
     "delete_cmd_prefix": "del ",
     "library": "var_list.py",
     "varRefreshCmd": "print(var_dic_list())"
    },
    "r": {
     "delete_cmd_postfix": ") ",
     "delete_cmd_prefix": "rm(",
     "library": "var_list.r",
     "varRefreshCmd": "cat(var_dic_list()) "
    }
   },
   "types_to_exclude": [
    "module",
    "function",
    "builtin_function_or_method",
    "instance",
    "_Feature"
   ],
   "window_display": false
  },
  "interpreter": {
   "hash": "31f2aee4e71d21fbe5cf8b01ff0e069b9275f58929596ceb00d14d90e3e16cd6"
  }
 },
 "nbformat": 4,
 "nbformat_minor": 4
}