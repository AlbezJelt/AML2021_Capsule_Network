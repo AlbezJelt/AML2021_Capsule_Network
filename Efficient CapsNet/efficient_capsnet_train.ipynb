{
 "cells": [
  {
   "cell_type": "markdown",
   "source": [
    "# Efficient-CapsNet Model Train"
   ],
   "metadata": {}
  },
  {
   "cell_type": "code",
   "execution_count": null,
   "source": [
    "%load_ext autoreload\n",
    "%autoreload 2"
   ],
   "outputs": [],
   "metadata": {
    "ExecuteTime": {
     "end_time": "2021-01-28T14:17:38.152068Z",
     "start_time": "2021-01-28T14:17:38.145241Z"
    }
   }
  },
  {
   "cell_type": "code",
   "execution_count": null,
   "source": [
    "import tensorflow as tf\n",
    "from utils import Dataset, plotHistory\n",
    "from models import EfficientCapsNet"
   ],
   "outputs": [],
   "metadata": {
    "ExecuteTime": {
     "end_time": "2021-01-28T14:17:39.436665Z",
     "start_time": "2021-01-28T14:17:38.152986Z"
    }
   }
  },
  {
   "cell_type": "markdown",
   "source": [
    "Setup GPU for training."
   ],
   "metadata": {}
  },
  {
   "cell_type": "code",
   "execution_count": null,
   "source": [
    "gpus = tf.config.experimental.list_physical_devices('GPU')\n",
    "tf.config.experimental.set_visible_devices(gpus[0], 'GPU')\n",
    "tf.config.experimental.set_memory_growth(gpus[0], True)"
   ],
   "outputs": [],
   "metadata": {
    "ExecuteTime": {
     "end_time": "2021-01-28T14:17:39.485046Z",
     "start_time": "2021-01-28T14:17:39.438120Z"
    }
   }
  },
  {
   "cell_type": "markdown",
   "source": [
    "Define the model name to use."
   ],
   "metadata": {}
  },
  {
   "cell_type": "code",
   "execution_count": null,
   "source": [
    "model_name = 'PATCH_CAMELYON'"
   ],
   "outputs": [],
   "metadata": {
    "ExecuteTime": {
     "end_time": "2021-01-28T14:17:39.502857Z",
     "start_time": "2021-01-28T14:17:39.486169Z"
    }
   }
  },
  {
   "cell_type": "markdown",
   "source": [
    "## 1.0 Import the Dataset\n",
    "All the model hyperparameters are stored in config.json"
   ],
   "metadata": {}
  },
  {
   "cell_type": "code",
   "execution_count": null,
   "source": [
    "dataset = Dataset(model_name, config_path='config.json')"
   ],
   "outputs": [],
   "metadata": {
    "ExecuteTime": {
     "end_time": "2021-01-28T14:17:39.898397Z",
     "start_time": "2021-01-28T14:17:39.503821Z"
    }
   }
  },
  {
   "cell_type": "markdown",
   "source": [
    "## 2.0 Load the Model"
   ],
   "metadata": {}
  },
  {
   "cell_type": "code",
   "execution_count": null,
   "source": [
    "model_train = EfficientCapsNet(model_name, mode='train', verbose=True)"
   ],
   "outputs": [],
   "metadata": {
    "ExecuteTime": {
     "end_time": "2021-01-28T14:21:46.634945Z",
     "start_time": "2021-01-28T14:21:46.311296Z"
    },
    "scrolled": false
   }
  },
  {
   "cell_type": "markdown",
   "source": [
    "## 3.0 Train the Model\n",
    "The number of epochs are in config.json"
   ],
   "metadata": {}
  },
  {
   "cell_type": "code",
   "execution_count": null,
   "source": [
    "history = model_train.train(dataset, initial_epoch=0)"
   ],
   "outputs": [],
   "metadata": {
    "ExecuteTime": {
     "end_time": "2021-01-28T14:25:09.510250Z",
     "start_time": "2021-01-28T14:24:56.018640Z"
    },
    "scrolled": true
   }
  },
  {
   "cell_type": "code",
   "execution_count": null,
   "source": [
    "plotHistory(history)"
   ],
   "outputs": [],
   "metadata": {}
  }
 ],
 "metadata": {
  "kernelspec": {
   "name": "python3",
   "display_name": "Python 3.6.9 64-bit"
  },
  "language_info": {
   "codemirror_mode": {
    "name": "ipython",
    "version": 3
   },
   "file_extension": ".py",
   "mimetype": "text/x-python",
   "name": "python",
   "nbconvert_exporter": "python",
   "pygments_lexer": "ipython3",
   "version": "3.6.9"
  },
  "toc": {
   "base_numbering": 1,
   "nav_menu": {},
   "number_sections": false,
   "sideBar": true,
   "skip_h1_title": false,
   "title_cell": "Table of Contents",
   "title_sidebar": "Contents",
   "toc_cell": false,
   "toc_position": {},
   "toc_section_display": true,
   "toc_window_display": false
  },
  "varInspector": {
   "cols": {
    "lenName": 16,
    "lenType": 16,
    "lenVar": 40
   },
   "kernels_config": {
    "python": {
     "delete_cmd_postfix": "",
     "delete_cmd_prefix": "del ",
     "library": "var_list.py",
     "varRefreshCmd": "print(var_dic_list())"
    },
    "r": {
     "delete_cmd_postfix": ") ",
     "delete_cmd_prefix": "rm(",
     "library": "var_list.r",
     "varRefreshCmd": "cat(var_dic_list()) "
    }
   },
   "types_to_exclude": [
    "module",
    "function",
    "builtin_function_or_method",
    "instance",
    "_Feature"
   ],
   "window_display": false
  },
  "interpreter": {
   "hash": "31f2aee4e71d21fbe5cf8b01ff0e069b9275f58929596ceb00d14d90e3e16cd6"
  }
 },
 "nbformat": 4,
 "nbformat_minor": 4
}