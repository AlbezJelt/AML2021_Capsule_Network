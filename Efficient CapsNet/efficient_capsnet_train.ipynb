{
 "cells": [
  {
   "cell_type": "markdown",
   "source": [
    "# Efficient-CapsNet Model Train"
   ],
   "metadata": {}
  },
  {
   "cell_type": "code",
   "execution_count": 1,
   "source": [
    "%load_ext autoreload\n",
    "%autoreload 2"
   ],
   "outputs": [],
   "metadata": {
    "ExecuteTime": {
     "end_time": "2021-01-28T14:17:38.152068Z",
     "start_time": "2021-01-28T14:17:38.145241Z"
    }
   }
  },
  {
   "cell_type": "code",
   "execution_count": 2,
   "source": [
    "import tensorflow as tf\n",
    "from utils import Dataset, plotHistory\n",
    "from models import EfficientCapsNet"
   ],
   "outputs": [],
   "metadata": {
    "ExecuteTime": {
     "end_time": "2021-01-28T14:17:39.436665Z",
     "start_time": "2021-01-28T14:17:38.152986Z"
    }
   }
  },
  {
   "cell_type": "markdown",
   "source": [
    "Setup GPU for training."
   ],
   "metadata": {}
  },
  {
   "cell_type": "code",
   "execution_count": 3,
   "source": [
    "gpus = tf.config.experimental.list_physical_devices('GPU')\n",
    "tf.config.experimental.set_visible_devices(gpus[0], 'GPU')\n",
    "tf.config.experimental.set_memory_growth(gpus[0], True)"
   ],
   "outputs": [],
   "metadata": {
    "ExecuteTime": {
     "end_time": "2021-01-28T14:17:39.485046Z",
     "start_time": "2021-01-28T14:17:39.438120Z"
    }
   }
  },
  {
   "cell_type": "markdown",
   "source": [
    "Define the model name to use."
   ],
   "metadata": {}
  },
  {
   "cell_type": "code",
   "execution_count": 4,
   "source": [
    "model_name = 'PATCH_CAMELYON'"
   ],
   "outputs": [],
   "metadata": {
    "ExecuteTime": {
     "end_time": "2021-01-28T14:17:39.502857Z",
     "start_time": "2021-01-28T14:17:39.486169Z"
    }
   }
  },
  {
   "cell_type": "markdown",
   "source": [
    "## 1.0 Import the Dataset\n",
    "All the model hyperparameters are stored in config.json"
   ],
   "metadata": {}
  },
  {
   "cell_type": "code",
   "execution_count": 5,
   "source": [
    "dataset = Dataset(model_name, config_path='config.json')"
   ],
   "outputs": [
    {
     "output_type": "stream",
     "name": "stdout",
     "text": [
      "[INFO] Dataset loaded!\n"
     ]
    }
   ],
   "metadata": {
    "ExecuteTime": {
     "end_time": "2021-01-28T14:17:39.898397Z",
     "start_time": "2021-01-28T14:17:39.503821Z"
    }
   }
  },
  {
   "cell_type": "markdown",
   "source": [
    "## 2.0 Load the Model"
   ],
   "metadata": {}
  },
  {
   "cell_type": "code",
   "execution_count": 6,
   "source": [
    "model_train = EfficientCapsNet(model_name, mode='train', verbose=True)"
   ],
   "outputs": [
    {
     "output_type": "stream",
     "name": "stdout",
     "text": [
      "Model: \"Efficient_CapsNet\"\n",
      "_________________________________________________________________\n",
      "Layer (type)                 Output Shape              Param #   \n",
      "=================================================================\n",
      "input_3 (InputLayer)         [(None, 48, 48, 3)]       0         \n",
      "_________________________________________________________________\n",
      "conv2d (Conv2D)              (None, 21, 21, 32)        4736      \n",
      "_________________________________________________________________\n",
      "leaky_re_lu (LeakyReLU)      (None, 21, 21, 32)        0         \n",
      "_________________________________________________________________\n",
      "instance_normalization (Inst (None, 21, 21, 32)        64        \n",
      "_________________________________________________________________\n",
      "conv2d_1 (Conv2D)            (None, 19, 19, 64)        18496     \n",
      "_________________________________________________________________\n",
      "leaky_re_lu_1 (LeakyReLU)    (None, 19, 19, 64)        0         \n",
      "_________________________________________________________________\n",
      "instance_normalization_1 (In (None, 19, 19, 64)        128       \n",
      "_________________________________________________________________\n",
      "conv2d_2 (Conv2D)            (None, 17, 17, 64)        36928     \n",
      "_________________________________________________________________\n",
      "leaky_re_lu_2 (LeakyReLU)    (None, 17, 17, 64)        0         \n",
      "_________________________________________________________________\n",
      "instance_normalization_2 (In (None, 17, 17, 64)        128       \n",
      "_________________________________________________________________\n",
      "conv2d_3 (Conv2D)            (None, 8, 8, 128)         73856     \n",
      "_________________________________________________________________\n",
      "leaky_re_lu_3 (LeakyReLU)    (None, 8, 8, 128)         0         \n",
      "_________________________________________________________________\n",
      "instance_normalization_3 (In (None, 8, 8, 128)         256       \n",
      "_________________________________________________________________\n",
      "primary_caps (PrimaryCaps)   (None, 16, 8)             8320      \n",
      "_________________________________________________________________\n",
      "fc_caps (FCCaps)             (None, 2, 16)             4128      \n",
      "_________________________________________________________________\n",
      "length_capsnet_output (Lengt (None, 2)                 0         \n",
      "=================================================================\n",
      "Total params: 147,040\n",
      "Trainable params: 147,040\n",
      "Non-trainable params: 0\n",
      "_________________________________________________________________\n",
      "\n",
      "\n",
      "\n",
      "Model: \"Generator\"\n",
      "_________________________________________________________________\n",
      "Layer (type)                 Output Shape              Param #   \n",
      "=================================================================\n",
      "input_4 (InputLayer)         [(None, 32)]              0         \n",
      "_________________________________________________________________\n",
      "dense (Dense)                (None, 64)                2112      \n",
      "_________________________________________________________________\n",
      "reshape (Reshape)            (None, 8, 8, 1)           0         \n",
      "_________________________________________________________________\n",
      "up_sampling2d (UpSampling2D) (None, 16, 16, 1)         0         \n",
      "_________________________________________________________________\n",
      "conv2d_4 (Conv2D)            (None, 14, 14, 64)        640       \n",
      "_________________________________________________________________\n",
      "up_sampling2d_1 (UpSampling2 (None, 28, 28, 64)        0         \n",
      "_________________________________________________________________\n",
      "conv2d_5 (Conv2D)            (None, 26, 26, 128)       73856     \n",
      "_________________________________________________________________\n",
      "up_sampling2d_2 (UpSampling2 (None, 52, 52, 128)       0         \n",
      "_________________________________________________________________\n",
      "conv2d_6 (Conv2D)            (None, 50, 50, 128)       147584    \n",
      "_________________________________________________________________\n",
      "conv2d_7 (Conv2D)            (None, 48, 48, 3)         3459      \n",
      "=================================================================\n",
      "Total params: 227,651\n",
      "Trainable params: 227,651\n",
      "Non-trainable params: 0\n",
      "_________________________________________________________________\n",
      "\n",
      "\n",
      "\n"
     ]
    }
   ],
   "metadata": {
    "ExecuteTime": {
     "end_time": "2021-01-28T14:21:46.634945Z",
     "start_time": "2021-01-28T14:21:46.311296Z"
    },
    "scrolled": false
   }
  },
  {
   "cell_type": "markdown",
   "source": [
    "## 3.0 Train the Model\n",
    "The number of epochs are in config.json"
   ],
   "metadata": {}
  },
  {
   "cell_type": "code",
   "execution_count": 7,
   "source": [
    "history = model_train.train(dataset, initial_epoch=0)"
   ],
   "outputs": [
    {
     "output_type": "stream",
     "name": "stdout",
     "text": [
      "------------------------------PATCH_CAMELYON train------------------------------\n",
      "WARNING:tensorflow:Model failed to serialize as JSON. Ignoring... Layer PrimaryCaps has arguments in `__init__` and therefore must override `get_config`.\n"
     ]
    },
    {
     "output_type": "stream",
     "name": "stderr",
     "text": [
      "WARNING:tensorflow:Model failed to serialize as JSON. Ignoring... Layer PrimaryCaps has arguments in `__init__` and therefore must override `get_config`.\n"
     ]
    },
    {
     "output_type": "stream",
     "name": "stdout",
     "text": [
      "Epoch 1/50\n",
      "8192/8192 [==============================] - 150s 18ms/step - loss: 0.5267 - Efficient_CapsNet_loss: 0.1692 - Generator_loss: 0.9122 - Efficient_CapsNet_accuracy: 0.6833 - val_loss: 0.4836 - val_Efficient_CapsNet_loss: 0.1274 - val_Generator_loss: 0.9086 - val_Efficient_CapsNet_accuracy: 0.7917\n",
      "\n",
      "Epoch 00001: val_Efficient_CapsNet_accuracy improved from -inf to 0.79166, saving model to bin/efficient_capsnet_PATCH_CAMELYON_new_train.h5\n",
      "Epoch 2/50\n",
      "8192/8192 [==============================] - 145s 18ms/step - loss: 0.4764 - Efficient_CapsNet_loss: 0.1255 - Generator_loss: 0.8952 - Efficient_CapsNet_accuracy: 0.8005 - val_loss: 0.4721 - val_Efficient_CapsNet_loss: 0.1192 - val_Generator_loss: 0.9001 - val_Efficient_CapsNet_accuracy: 0.8050\n",
      "\n",
      "Epoch 00002: val_Efficient_CapsNet_accuracy improved from 0.79166 to 0.80499, saving model to bin/efficient_capsnet_PATCH_CAMELYON_new_train.h5\n",
      "Epoch 3/50\n",
      "8192/8192 [==============================] - 146s 18ms/step - loss: 0.4646 - Efficient_CapsNet_loss: 0.1154 - Generator_loss: 0.8908 - Efficient_CapsNet_accuracy: 0.8170 - val_loss: 0.4665 - val_Efficient_CapsNet_loss: 0.1147 - val_Generator_loss: 0.8974 - val_Efficient_CapsNet_accuracy: 0.8128\n",
      "\n",
      "Epoch 00003: val_Efficient_CapsNet_accuracy improved from 0.80499 to 0.81277, saving model to bin/efficient_capsnet_PATCH_CAMELYON_new_train.h5\n",
      "Epoch 4/50\n",
      "8192/8192 [==============================] - 145s 18ms/step - loss: 0.4565 - Efficient_CapsNet_loss: 0.1084 - Generator_loss: 0.8881 - Efficient_CapsNet_accuracy: 0.8282 - val_loss: 0.4721 - val_Efficient_CapsNet_loss: 0.1217 - val_Generator_loss: 0.8940 - val_Efficient_CapsNet_accuracy: 0.7979\n",
      "\n",
      "Epoch 00004: val_Efficient_CapsNet_accuracy did not improve from 0.81277\n",
      "Epoch 5/50\n",
      "8192/8192 [==============================] - 145s 18ms/step - loss: 0.4502 - Efficient_CapsNet_loss: 0.1038 - Generator_loss: 0.8835 - Efficient_CapsNet_accuracy: 0.8365 - val_loss: 0.4529 - val_Efficient_CapsNet_loss: 0.1046 - val_Generator_loss: 0.8885 - val_Efficient_CapsNet_accuracy: 0.8314\n",
      "\n",
      "Epoch 00005: val_Efficient_CapsNet_accuracy improved from 0.81277 to 0.83136, saving model to bin/efficient_capsnet_PATCH_CAMELYON_new_train.h5\n",
      "Epoch 6/50\n",
      "8192/8192 [==============================] - 145s 18ms/step - loss: 0.4443 - Efficient_CapsNet_loss: 0.1000 - Generator_loss: 0.8784 - Efficient_CapsNet_accuracy: 0.8439 - val_loss: 0.4564 - val_Efficient_CapsNet_loss: 0.1091 - val_Generator_loss: 0.8860 - val_Efficient_CapsNet_accuracy: 0.8242\n",
      "\n",
      "Epoch 00006: val_Efficient_CapsNet_accuracy did not improve from 0.83136\n",
      "Epoch 7/50\n",
      "8192/8192 [==============================] - 145s 18ms/step - loss: 0.4395 - Efficient_CapsNet_loss: 0.0963 - Generator_loss: 0.8755 - Efficient_CapsNet_accuracy: 0.8494 - val_loss: 0.4561 - val_Efficient_CapsNet_loss: 0.1096 - val_Generator_loss: 0.8839 - val_Efficient_CapsNet_accuracy: 0.8236\n",
      "\n",
      "Epoch 00007: val_Efficient_CapsNet_accuracy did not improve from 0.83136\n",
      "Epoch 8/50\n",
      "8192/8192 [==============================] - 145s 18ms/step - loss: 0.4364 - Efficient_CapsNet_loss: 0.0938 - Generator_loss: 0.8739 - Efficient_CapsNet_accuracy: 0.8538 - val_loss: 0.4560 - val_Efficient_CapsNet_loss: 0.1098 - val_Generator_loss: 0.8830 - val_Efficient_CapsNet_accuracy: 0.8199\n",
      "\n",
      "Epoch 00008: val_Efficient_CapsNet_accuracy did not improve from 0.83136\n",
      "Epoch 9/50\n",
      "8192/8192 [==============================] - 145s 18ms/step - loss: 0.4335 - Efficient_CapsNet_loss: 0.0915 - Generator_loss: 0.8725 - Efficient_CapsNet_accuracy: 0.8584 - val_loss: 0.4533 - val_Efficient_CapsNet_loss: 0.1077 - val_Generator_loss: 0.8816 - val_Efficient_CapsNet_accuracy: 0.8275\n",
      "\n",
      "Epoch 00009: val_Efficient_CapsNet_accuracy did not improve from 0.83136\n",
      "Epoch 10/50\n",
      "8192/8192 [==============================] - 145s 18ms/step - loss: 0.4312 - Efficient_CapsNet_loss: 0.0897 - Generator_loss: 0.8712 - Efficient_CapsNet_accuracy: 0.8617 - val_loss: 0.4467 - val_Efficient_CapsNet_loss: 0.1016 - val_Generator_loss: 0.8805 - val_Efficient_CapsNet_accuracy: 0.8352\n",
      "\n",
      "Epoch 00010: val_Efficient_CapsNet_accuracy improved from 0.83136 to 0.83524, saving model to bin/efficient_capsnet_PATCH_CAMELYON_new_train.h5\n",
      "Epoch 11/50\n",
      "8192/8192 [==============================] - 145s 18ms/step - loss: 0.4285 - Efficient_CapsNet_loss: 0.0874 - Generator_loss: 0.8701 - Efficient_CapsNet_accuracy: 0.8652 - val_loss: 0.4527 - val_Efficient_CapsNet_loss: 0.1075 - val_Generator_loss: 0.8807 - val_Efficient_CapsNet_accuracy: 0.8252\n",
      "\n",
      "Epoch 00011: val_Efficient_CapsNet_accuracy did not improve from 0.83524\n",
      "Epoch 12/50\n",
      "8192/8192 [==============================] - 145s 18ms/step - loss: 0.4270 - Efficient_CapsNet_loss: 0.0862 - Generator_loss: 0.8693 - Efficient_CapsNet_accuracy: 0.8670 - val_loss: 0.4478 - val_Efficient_CapsNet_loss: 0.1033 - val_Generator_loss: 0.8788 - val_Efficient_CapsNet_accuracy: 0.8309\n",
      "\n",
      "Epoch 00012: val_Efficient_CapsNet_accuracy did not improve from 0.83524\n",
      "Epoch 13/50\n",
      "8192/8192 [==============================] - 145s 18ms/step - loss: 0.4247 - Efficient_CapsNet_loss: 0.0842 - Generator_loss: 0.8686 - Efficient_CapsNet_accuracy: 0.8706 - val_loss: 0.4464 - val_Efficient_CapsNet_loss: 0.1021 - val_Generator_loss: 0.8783 - val_Efficient_CapsNet_accuracy: 0.8355\n",
      "\n",
      "Epoch 00013: val_Efficient_CapsNet_accuracy improved from 0.83524 to 0.83554, saving model to bin/efficient_capsnet_PATCH_CAMELYON_new_train.h5\n",
      "Epoch 14/50\n",
      "8192/8192 [==============================] - 145s 18ms/step - loss: 0.4236 - Efficient_CapsNet_loss: 0.0834 - Generator_loss: 0.8678 - Efficient_CapsNet_accuracy: 0.8717 - val_loss: 0.4562 - val_Efficient_CapsNet_loss: 0.1121 - val_Generator_loss: 0.8779 - val_Efficient_CapsNet_accuracy: 0.8195\n",
      "\n",
      "Epoch 00014: val_Efficient_CapsNet_accuracy did not improve from 0.83554\n",
      "Epoch 15/50\n",
      "8192/8192 [==============================] - 145s 18ms/step - loss: 0.4221 - Efficient_CapsNet_loss: 0.0822 - Generator_loss: 0.8673 - Efficient_CapsNet_accuracy: 0.8744 - val_loss: 0.4540 - val_Efficient_CapsNet_loss: 0.1099 - val_Generator_loss: 0.8778 - val_Efficient_CapsNet_accuracy: 0.8223\n",
      "\n",
      "Epoch 00015: val_Efficient_CapsNet_accuracy did not improve from 0.83554\n",
      "Epoch 16/50\n",
      "8192/8192 [==============================] - 145s 18ms/step - loss: 0.4206 - Efficient_CapsNet_loss: 0.0807 - Generator_loss: 0.8669 - Efficient_CapsNet_accuracy: 0.8764 - val_loss: 0.4480 - val_Efficient_CapsNet_loss: 0.1043 - val_Generator_loss: 0.8769 - val_Efficient_CapsNet_accuracy: 0.8333\n",
      "\n",
      "Epoch 00016: val_Efficient_CapsNet_accuracy did not improve from 0.83554\n",
      "Epoch 17/50\n",
      "8192/8192 [==============================] - 145s 18ms/step - loss: 0.4197 - Efficient_CapsNet_loss: 0.0800 - Generator_loss: 0.8665 - Efficient_CapsNet_accuracy: 0.8777 - val_loss: 0.4531 - val_Efficient_CapsNet_loss: 0.1095 - val_Generator_loss: 0.8766 - val_Efficient_CapsNet_accuracy: 0.8267\n",
      "\n",
      "Epoch 00017: val_Efficient_CapsNet_accuracy did not improve from 0.83554\n",
      "Epoch 18/50\n",
      "8192/8192 [==============================] - 145s 18ms/step - loss: 0.4186 - Efficient_CapsNet_loss: 0.0792 - Generator_loss: 0.8659 - Efficient_CapsNet_accuracy: 0.8789 - val_loss: 0.4476 - val_Efficient_CapsNet_loss: 0.1042 - val_Generator_loss: 0.8762 - val_Efficient_CapsNet_accuracy: 0.8320\n",
      "\n",
      "Epoch 00018: val_Efficient_CapsNet_accuracy did not improve from 0.83554\n",
      "Epoch 19/50\n",
      "8192/8192 [==============================] - 145s 18ms/step - loss: 0.4169 - Efficient_CapsNet_loss: 0.0775 - Generator_loss: 0.8657 - Efficient_CapsNet_accuracy: 0.8816 - val_loss: 0.4470 - val_Efficient_CapsNet_loss: 0.1036 - val_Generator_loss: 0.8759 - val_Efficient_CapsNet_accuracy: 0.8345\n",
      "\n",
      "Epoch 00019: val_Efficient_CapsNet_accuracy did not improve from 0.83554\n",
      "Epoch 20/50\n",
      "8192/8192 [==============================] - 145s 18ms/step - loss: 0.4163 - Efficient_CapsNet_loss: 0.0770 - Generator_loss: 0.8655 - Efficient_CapsNet_accuracy: 0.8827 - val_loss: 0.4508 - val_Efficient_CapsNet_loss: 0.1074 - val_Generator_loss: 0.8760 - val_Efficient_CapsNet_accuracy: 0.8265\n",
      "\n",
      "Epoch 00020: val_Efficient_CapsNet_accuracy did not improve from 0.83554\n",
      "Epoch 21/50\n",
      "8192/8192 [==============================] - 145s 18ms/step - loss: 0.4155 - Efficient_CapsNet_loss: 0.0764 - Generator_loss: 0.8651 - Efficient_CapsNet_accuracy: 0.8837 - val_loss: 0.4499 - val_Efficient_CapsNet_loss: 0.1066 - val_Generator_loss: 0.8757 - val_Efficient_CapsNet_accuracy: 0.8291\n",
      "\n",
      "Epoch 00021: val_Efficient_CapsNet_accuracy did not improve from 0.83554\n",
      "Epoch 22/50\n",
      "8192/8192 [==============================] - 145s 18ms/step - loss: 0.4144 - Efficient_CapsNet_loss: 0.0753 - Generator_loss: 0.8650 - Efficient_CapsNet_accuracy: 0.8853 - val_loss: 0.4456 - val_Efficient_CapsNet_loss: 0.1024 - val_Generator_loss: 0.8757 - val_Efficient_CapsNet_accuracy: 0.8358\n",
      "\n",
      "Epoch 00022: val_Efficient_CapsNet_accuracy improved from 0.83554 to 0.83582, saving model to bin/efficient_capsnet_PATCH_CAMELYON_new_train.h5\n",
      "Epoch 23/50\n",
      "8192/8192 [==============================] - 145s 18ms/step - loss: 0.4138 - Efficient_CapsNet_loss: 0.0748 - Generator_loss: 0.8648 - Efficient_CapsNet_accuracy: 0.8861 - val_loss: 0.4468 - val_Efficient_CapsNet_loss: 0.1038 - val_Generator_loss: 0.8752 - val_Efficient_CapsNet_accuracy: 0.8366\n",
      "\n",
      "Epoch 00023: val_Efficient_CapsNet_accuracy improved from 0.83582 to 0.83661, saving model to bin/efficient_capsnet_PATCH_CAMELYON_new_train.h5\n",
      "Epoch 24/50\n",
      "8192/8192 [==============================] - 145s 18ms/step - loss: 0.4131 - Efficient_CapsNet_loss: 0.0742 - Generator_loss: 0.8645 - Efficient_CapsNet_accuracy: 0.8872 - val_loss: 0.4522 - val_Efficient_CapsNet_loss: 0.1088 - val_Generator_loss: 0.8760 - val_Efficient_CapsNet_accuracy: 0.8281\n",
      "\n",
      "Epoch 00024: val_Efficient_CapsNet_accuracy did not improve from 0.83661\n",
      "Epoch 25/50\n",
      "8192/8192 [==============================] - 145s 18ms/step - loss: 0.4123 - Efficient_CapsNet_loss: 0.0734 - Generator_loss: 0.8644 - Efficient_CapsNet_accuracy: 0.8888 - val_loss: 0.4499 - val_Efficient_CapsNet_loss: 0.1069 - val_Generator_loss: 0.8749 - val_Efficient_CapsNet_accuracy: 0.8309\n",
      "\n",
      "Epoch 00025: val_Efficient_CapsNet_accuracy did not improve from 0.83661\n",
      "Epoch 26/50\n",
      "8192/8192 [==============================] - 145s 18ms/step - loss: 0.4117 - Efficient_CapsNet_loss: 0.0730 - Generator_loss: 0.8642 - Efficient_CapsNet_accuracy: 0.8891 - val_loss: 0.4467 - val_Efficient_CapsNet_loss: 0.1040 - val_Generator_loss: 0.8744 - val_Efficient_CapsNet_accuracy: 0.8351\n",
      "\n",
      "Epoch 00026: val_Efficient_CapsNet_accuracy did not improve from 0.83661\n",
      "Epoch 27/50\n",
      "8192/8192 [==============================] - 145s 18ms/step - loss: 0.4107 - Efficient_CapsNet_loss: 0.0720 - Generator_loss: 0.8641 - Efficient_CapsNet_accuracy: 0.8910 - val_loss: 0.4412 - val_Efficient_CapsNet_loss: 0.0983 - val_Generator_loss: 0.8748 - val_Efficient_CapsNet_accuracy: 0.8414\n",
      "\n",
      "Epoch 00027: val_Efficient_CapsNet_accuracy improved from 0.83661 to 0.84143, saving model to bin/efficient_capsnet_PATCH_CAMELYON_new_train.h5\n",
      "Epoch 28/50\n",
      "8192/8192 [==============================] - 145s 18ms/step - loss: 0.4104 - Efficient_CapsNet_loss: 0.0717 - Generator_loss: 0.8639 - Efficient_CapsNet_accuracy: 0.8911 - val_loss: 0.4418 - val_Efficient_CapsNet_loss: 0.0989 - val_Generator_loss: 0.8748 - val_Efficient_CapsNet_accuracy: 0.8408\n",
      "\n",
      "Epoch 00028: val_Efficient_CapsNet_accuracy did not improve from 0.84143\n",
      "Epoch 29/50\n",
      "8192/8192 [==============================] - 145s 18ms/step - loss: 0.4096 - Efficient_CapsNet_loss: 0.0710 - Generator_loss: 0.8638 - Efficient_CapsNet_accuracy: 0.8927 - val_loss: 0.4410 - val_Efficient_CapsNet_loss: 0.0980 - val_Generator_loss: 0.8750 - val_Efficient_CapsNet_accuracy: 0.8418\n",
      "\n",
      "Epoch 00029: val_Efficient_CapsNet_accuracy improved from 0.84143 to 0.84183, saving model to bin/efficient_capsnet_PATCH_CAMELYON_new_train.h5\n",
      "Epoch 30/50\n",
      "8192/8192 [==============================] - 145s 18ms/step - loss: 0.4091 - Efficient_CapsNet_loss: 0.0705 - Generator_loss: 0.8637 - Efficient_CapsNet_accuracy: 0.8932 - val_loss: 0.4388 - val_Efficient_CapsNet_loss: 0.0962 - val_Generator_loss: 0.8739 - val_Efficient_CapsNet_accuracy: 0.8457\n",
      "\n",
      "Epoch 00030: val_Efficient_CapsNet_accuracy improved from 0.84183 to 0.84573, saving model to bin/efficient_capsnet_PATCH_CAMELYON_new_train.h5\n",
      "Epoch 31/50\n",
      "8192/8192 [==============================] - 145s 18ms/step - loss: 0.4085 - Efficient_CapsNet_loss: 0.0700 - Generator_loss: 0.8635 - Efficient_CapsNet_accuracy: 0.8946 - val_loss: 0.4464 - val_Efficient_CapsNet_loss: 0.1038 - val_Generator_loss: 0.8741 - val_Efficient_CapsNet_accuracy: 0.8336\n",
      "\n",
      "Epoch 00031: val_Efficient_CapsNet_accuracy did not improve from 0.84573\n",
      "Epoch 32/50\n",
      "8192/8192 [==============================] - 145s 18ms/step - loss: 0.4081 - Efficient_CapsNet_loss: 0.0697 - Generator_loss: 0.8633 - Efficient_CapsNet_accuracy: 0.8948 - val_loss: 0.4373 - val_Efficient_CapsNet_loss: 0.0944 - val_Generator_loss: 0.8745 - val_Efficient_CapsNet_accuracy: 0.8489\n",
      "\n",
      "Epoch 00032: val_Efficient_CapsNet_accuracy improved from 0.84573 to 0.84891, saving model to bin/efficient_capsnet_PATCH_CAMELYON_new_train.h5\n",
      "Epoch 33/50\n",
      "8192/8192 [==============================] - 145s 18ms/step - loss: 0.4072 - Efficient_CapsNet_loss: 0.0688 - Generator_loss: 0.8633 - Efficient_CapsNet_accuracy: 0.8958 - val_loss: 0.4397 - val_Efficient_CapsNet_loss: 0.0969 - val_Generator_loss: 0.8745 - val_Efficient_CapsNet_accuracy: 0.8458\n",
      "\n",
      "Epoch 00033: val_Efficient_CapsNet_accuracy did not improve from 0.84891\n",
      "Epoch 34/50\n",
      "8192/8192 [==============================] - 145s 18ms/step - loss: 0.4069 - Efficient_CapsNet_loss: 0.0686 - Generator_loss: 0.8631 - Efficient_CapsNet_accuracy: 0.8963 - val_loss: 0.4384 - val_Efficient_CapsNet_loss: 0.0958 - val_Generator_loss: 0.8739 - val_Efficient_CapsNet_accuracy: 0.8466\n",
      "\n",
      "Epoch 00034: val_Efficient_CapsNet_accuracy did not improve from 0.84891\n",
      "Epoch 35/50\n",
      "8192/8192 [==============================] - 145s 18ms/step - loss: 0.4063 - Efficient_CapsNet_loss: 0.0680 - Generator_loss: 0.8630 - Efficient_CapsNet_accuracy: 0.8974 - val_loss: 0.4511 - val_Efficient_CapsNet_loss: 0.1086 - val_Generator_loss: 0.8736 - val_Efficient_CapsNet_accuracy: 0.8289\n",
      "\n",
      "Epoch 00035: val_Efficient_CapsNet_accuracy did not improve from 0.84891\n",
      "Epoch 36/50\n",
      "8192/8192 [==============================] - 145s 18ms/step - loss: 0.4059 - Efficient_CapsNet_loss: 0.0676 - Generator_loss: 0.8630 - Efficient_CapsNet_accuracy: 0.8981 - val_loss: 0.4443 - val_Efficient_CapsNet_loss: 0.1018 - val_Generator_loss: 0.8738 - val_Efficient_CapsNet_accuracy: 0.8386\n",
      "\n",
      "Epoch 00036: val_Efficient_CapsNet_accuracy did not improve from 0.84891\n",
      "Epoch 37/50\n",
      "8192/8192 [==============================] - 145s 18ms/step - loss: 0.4060 - Efficient_CapsNet_loss: 0.0677 - Generator_loss: 0.8629 - Efficient_CapsNet_accuracy: 0.8977 - val_loss: 0.4659 - val_Efficient_CapsNet_loss: 0.1233 - val_Generator_loss: 0.8740 - val_Efficient_CapsNet_accuracy: 0.8082\n",
      "\n",
      "Epoch 00037: val_Efficient_CapsNet_accuracy did not improve from 0.84891\n",
      "Epoch 38/50\n",
      "8192/8192 [==============================] - 145s 18ms/step - loss: 0.4050 - Efficient_CapsNet_loss: 0.0668 - Generator_loss: 0.8628 - Efficient_CapsNet_accuracy: 0.8994 - val_loss: 0.4491 - val_Efficient_CapsNet_loss: 0.1065 - val_Generator_loss: 0.8739 - val_Efficient_CapsNet_accuracy: 0.8344\n",
      "\n",
      "Epoch 00038: val_Efficient_CapsNet_accuracy did not improve from 0.84891\n",
      "Epoch 39/50\n",
      "8192/8192 [==============================] - 145s 18ms/step - loss: 0.4049 - Efficient_CapsNet_loss: 0.0668 - Generator_loss: 0.8625 - Efficient_CapsNet_accuracy: 0.8991 - val_loss: 0.4383 - val_Efficient_CapsNet_loss: 0.0960 - val_Generator_loss: 0.8734 - val_Efficient_CapsNet_accuracy: 0.8470\n",
      "\n",
      "Epoch 00039: val_Efficient_CapsNet_accuracy did not improve from 0.84891\n",
      "Epoch 40/50\n",
      "8192/8192 [==============================] - 145s 18ms/step - loss: 0.4047 - Efficient_CapsNet_loss: 0.0666 - Generator_loss: 0.8625 - Efficient_CapsNet_accuracy: 0.9002 - val_loss: 0.4486 - val_Efficient_CapsNet_loss: 0.1063 - val_Generator_loss: 0.8732 - val_Efficient_CapsNet_accuracy: 0.8331\n",
      "\n",
      "Epoch 00040: val_Efficient_CapsNet_accuracy did not improve from 0.84891\n",
      "Epoch 41/50\n",
      "8192/8192 [==============================] - 145s 18ms/step - loss: 0.4038 - Efficient_CapsNet_loss: 0.0658 - Generator_loss: 0.8624 - Efficient_CapsNet_accuracy: 0.9014 - val_loss: 0.4445 - val_Efficient_CapsNet_loss: 0.1021 - val_Generator_loss: 0.8736 - val_Efficient_CapsNet_accuracy: 0.8383\n",
      "\n",
      "Epoch 00041: val_Efficient_CapsNet_accuracy did not improve from 0.84891\n",
      "Epoch 42/50\n",
      "8192/8192 [==============================] - 145s 18ms/step - loss: 0.4040 - Efficient_CapsNet_loss: 0.0659 - Generator_loss: 0.8625 - Efficient_CapsNet_accuracy: 0.9007 - val_loss: 0.4484 - val_Efficient_CapsNet_loss: 0.1060 - val_Generator_loss: 0.8733 - val_Efficient_CapsNet_accuracy: 0.8330\n",
      "\n",
      "Epoch 00042: val_Efficient_CapsNet_accuracy did not improve from 0.84891\n",
      "Epoch 43/50\n",
      "8192/8192 [==============================] - 145s 18ms/step - loss: 0.4034 - Efficient_CapsNet_loss: 0.0654 - Generator_loss: 0.8624 - Efficient_CapsNet_accuracy: 0.9018 - val_loss: 0.4531 - val_Efficient_CapsNet_loss: 0.1108 - val_Generator_loss: 0.8732 - val_Efficient_CapsNet_accuracy: 0.8255\n",
      "\n",
      "Epoch 00043: val_Efficient_CapsNet_accuracy did not improve from 0.84891\n",
      "Epoch 44/50\n",
      "8192/8192 [==============================] - 145s 18ms/step - loss: 0.4031 - Efficient_CapsNet_loss: 0.0651 - Generator_loss: 0.8622 - Efficient_CapsNet_accuracy: 0.9023 - val_loss: 0.4424 - val_Efficient_CapsNet_loss: 0.1001 - val_Generator_loss: 0.8732 - val_Efficient_CapsNet_accuracy: 0.8413\n",
      "\n",
      "Epoch 00044: val_Efficient_CapsNet_accuracy did not improve from 0.84891\n",
      "Epoch 45/50\n",
      "8192/8192 [==============================] - 145s 18ms/step - loss: 0.4025 - Efficient_CapsNet_loss: 0.0645 - Generator_loss: 0.8622 - Efficient_CapsNet_accuracy: 0.9035 - val_loss: 0.4510 - val_Efficient_CapsNet_loss: 0.1087 - val_Generator_loss: 0.8732 - val_Efficient_CapsNet_accuracy: 0.8297\n",
      "\n",
      "Epoch 00045: val_Efficient_CapsNet_accuracy did not improve from 0.84891\n",
      "Epoch 46/50\n",
      "8192/8192 [==============================] - 145s 18ms/step - loss: 0.4021 - Efficient_CapsNet_loss: 0.0642 - Generator_loss: 0.8620 - Efficient_CapsNet_accuracy: 0.9038 - val_loss: 0.4435 - val_Efficient_CapsNet_loss: 0.1012 - val_Generator_loss: 0.8731 - val_Efficient_CapsNet_accuracy: 0.8414\n",
      "\n",
      "Epoch 00046: val_Efficient_CapsNet_accuracy did not improve from 0.84891\n",
      "Epoch 47/50\n",
      "8192/8192 [==============================] - 145s 18ms/step - loss: 0.4022 - Efficient_CapsNet_loss: 0.0643 - Generator_loss: 0.8620 - Efficient_CapsNet_accuracy: 0.9036 - val_loss: 0.4409 - val_Efficient_CapsNet_loss: 0.0987 - val_Generator_loss: 0.8728 - val_Efficient_CapsNet_accuracy: 0.8440\n",
      "\n",
      "Epoch 00047: val_Efficient_CapsNet_accuracy did not improve from 0.84891\n",
      "Epoch 48/50\n",
      "8192/8192 [==============================] - 145s 18ms/step - loss: 0.4017 - Efficient_CapsNet_loss: 0.0638 - Generator_loss: 0.8620 - Efficient_CapsNet_accuracy: 0.9048 - val_loss: 0.4466 - val_Efficient_CapsNet_loss: 0.1041 - val_Generator_loss: 0.8737 - val_Efficient_CapsNet_accuracy: 0.8367\n",
      "\n",
      "Epoch 00048: val_Efficient_CapsNet_accuracy did not improve from 0.84891\n",
      "Epoch 49/50\n",
      "8192/8192 [==============================] - 145s 18ms/step - loss: 0.4014 - Efficient_CapsNet_loss: 0.0636 - Generator_loss: 0.8618 - Efficient_CapsNet_accuracy: 0.9050 - val_loss: 0.4428 - val_Efficient_CapsNet_loss: 0.1007 - val_Generator_loss: 0.8726 - val_Efficient_CapsNet_accuracy: 0.8408\n",
      "\n",
      "Epoch 00049: val_Efficient_CapsNet_accuracy did not improve from 0.84891\n",
      "Epoch 50/50\n",
      "8192/8192 [==============================] - 145s 18ms/step - loss: 0.4009 - Efficient_CapsNet_loss: 0.0631 - Generator_loss: 0.8617 - Efficient_CapsNet_accuracy: 0.9057 - val_loss: 0.4382 - val_Efficient_CapsNet_loss: 0.0961 - val_Generator_loss: 0.8725 - val_Efficient_CapsNet_accuracy: 0.8486\n",
      "\n",
      "Epoch 00050: val_Efficient_CapsNet_accuracy did not improve from 0.84891\n"
     ]
    }
   ],
   "metadata": {
    "ExecuteTime": {
     "end_time": "2021-01-28T14:25:09.510250Z",
     "start_time": "2021-01-28T14:24:56.018640Z"
    },
    "scrolled": true
   }
  },
  {
   "cell_type": "code",
   "execution_count": 8,
   "source": [
    "plotHistory(history)"
   ],
   "outputs": [
    {
     "output_type": "display_data",
     "data": {
      "image/png": "[encoded data removed]",
      "text/plain": [
       "<Figure size 576x360 with 1 Axes>"
      ]
     },
     "metadata": {
      "needs_background": "light"
     }
    }
   ],
   "metadata": {}
  }
 ],
 "metadata": {
  "kernelspec": {
   "name": "python3",
   "display_name": "Python 3.6.9 64-bit"
  },
  "language_info": {
   "codemirror_mode": {
    "name": "ipython",
    "version": 3
   },
   "file_extension": ".py",
   "mimetype": "text/x-python",
   "name": "python",
   "nbconvert_exporter": "python",
   "pygments_lexer": "ipython3",
   "version": "3.6.9"
  },
  "toc": {
   "base_numbering": 1,
   "nav_menu": {},
   "number_sections": false,
   "sideBar": true,
   "skip_h1_title": false,
   "title_cell": "Table of Contents",
   "title_sidebar": "Contents",
   "toc_cell": false,
   "toc_position": {},
   "toc_section_display": true,
   "toc_window_display": false
  },
  "varInspector": {
   "cols": {
    "lenName": 16,
    "lenType": 16,
    "lenVar": 40
   },
   "kernels_config": {
    "python": {
     "delete_cmd_postfix": "",
     "delete_cmd_prefix": "del ",
     "library": "var_list.py",
     "varRefreshCmd": "print(var_dic_list())"
    },
    "r": {
     "delete_cmd_postfix": ") ",
     "delete_cmd_prefix": "rm(",
     "library": "var_list.r",
     "varRefreshCmd": "cat(var_dic_list()) "
    }
   },
   "types_to_exclude": [
    "module",
    "function",
    "builtin_function_or_method",
    "instance",
    "_Feature"
   ],
   "window_display": false
  },
  "interpreter": {
   "hash": "31f2aee4e71d21fbe5cf8b01ff0e069b9275f58929596ceb00d14d90e3e16cd6"
  }
 },
 "nbformat": 4,
 "nbformat_minor": 4
}