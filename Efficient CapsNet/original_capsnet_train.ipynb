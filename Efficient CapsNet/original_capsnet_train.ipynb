{
 "cells": [
  {
   "cell_type": "markdown",
   "source": [
    "# Original CapsNet Model Train"
   ],
   "metadata": {}
  },
  {
   "cell_type": "code",
   "execution_count": 1,
   "source": [
    "%load_ext autoreload\n",
    "%autoreload 2"
   ],
   "outputs": [],
   "metadata": {
    "ExecuteTime": {
     "end_time": "2021-01-26T11:34:31.431990Z",
     "start_time": "2021-01-26T11:34:31.422498Z"
    }
   }
  },
  {
   "cell_type": "code",
   "execution_count": 2,
   "source": [
    "import tensorflow as tf\n",
    "from utils import Dataset, plotHistory\n",
    "from models import CapsNet"
   ],
   "outputs": [],
   "metadata": {
    "ExecuteTime": {
     "end_time": "2021-01-26T11:34:33.092592Z",
     "start_time": "2021-01-26T11:34:31.773426Z"
    }
   }
  },
  {
   "cell_type": "markdown",
   "source": [
    "Setup GPU for training."
   ],
   "metadata": {}
  },
  {
   "cell_type": "code",
   "execution_count": 3,
   "source": [
    "gpus = tf.config.experimental.list_physical_devices('GPU')\n",
    "tf.config.experimental.set_visible_devices(gpus[0], 'GPU')\n",
    "tf.config.experimental.set_memory_growth(gpus[0], True)"
   ],
   "outputs": [],
   "metadata": {
    "ExecuteTime": {
     "end_time": "2021-01-26T11:34:33.173488Z",
     "start_time": "2021-01-26T11:34:33.126360Z"
    }
   }
  },
  {
   "cell_type": "markdown",
   "source": [
    "Define the model name to use and the number of routing iterations"
   ],
   "metadata": {}
  },
  {
   "cell_type": "code",
   "execution_count": 4,
   "source": [
    "model_name = 'PATCH_CAMELYON' \n",
    "n_routing = 3"
   ],
   "outputs": [],
   "metadata": {
    "ExecuteTime": {
     "end_time": "2021-01-26T11:35:22.584111Z",
     "start_time": "2021-01-26T11:35:22.561220Z"
    }
   }
  },
  {
   "cell_type": "markdown",
   "source": [
    "## 1.0 Import the Dataset\n",
    "All the model hyperparameters are stored in config.json"
   ],
   "metadata": {}
  },
  {
   "cell_type": "code",
   "execution_count": 5,
   "source": [
    "dataset = Dataset(model_name, config_path='config.json') "
   ],
   "outputs": [
    {
     "output_type": "stream",
     "name": "stdout",
     "text": [
      "[INFO] Dataset loaded!\n"
     ]
    }
   ],
   "metadata": {
    "ExecuteTime": {
     "end_time": "2021-01-26T11:35:23.625015Z",
     "start_time": "2021-01-26T11:35:23.312138Z"
    }
   }
  },
  {
   "cell_type": "markdown",
   "source": [
    "## 2.0 Load the Model"
   ],
   "metadata": {}
  },
  {
   "cell_type": "code",
   "execution_count": 6,
   "source": [
    "model_train = CapsNet(model_name, mode='train', verbose=True, n_routing=n_routing)"
   ],
   "outputs": [
    {
     "output_type": "stream",
     "name": "stdout",
     "text": [
      "Model: \"Original_CapsNet\"\n",
      "__________________________________________________________________________________________________\n",
      "Layer (type)                    Output Shape         Param #     Connected to                     \n",
      "==================================================================================================\n",
      "input_4 (InputLayer)            [(None, 48, 48, 3)]  0                                            \n",
      "__________________________________________________________________________________________________\n",
      "conv2d (Conv2D)                 (None, 40, 40, 256)  62464       input_4[0][0]                    \n",
      "__________________________________________________________________________________________________\n",
      "primary_caps (PrimaryCaps)      (None, 16, 16, 32, 8 5308672     conv2d[0][0]                     \n",
      "__________________________________________________________________________________________________\n",
      "digit_caps (DigitCaps)          (None, 2, 16)        2097184     primary_caps[0][0]               \n",
      "__________________________________________________________________________________________________\n",
      "tf.reshape (TFOpLambda)         (None, 8192, 8)      0           primary_caps[0][0]               \n",
      "__________________________________________________________________________________________________\n",
      "capsnet_output_len (Length)     (None, 2)            0           digit_caps[0][0]                 \n",
      "==================================================================================================\n",
      "Total params: 7,468,320\n",
      "Trainable params: 7,468,320\n",
      "Non-trainable params: 0\n",
      "__________________________________________________________________________________________________\n",
      "\n",
      "\n",
      "\n",
      "Model: \"Generator\"\n",
      "_________________________________________________________________\n",
      "Layer (type)                 Output Shape              Param #   \n",
      "=================================================================\n",
      "input_5 (InputLayer)         [(None, 32)]              0         \n",
      "_________________________________________________________________\n",
      "dense (Dense)                (None, 512)               16896     \n",
      "_________________________________________________________________\n",
      "dense_1 (Dense)              (None, 1024)              525312    \n",
      "_________________________________________________________________\n",
      "dense_2 (Dense)              (None, 6912)              7084800   \n",
      "_________________________________________________________________\n",
      "out_generator (Reshape)      (None, 48, 48, 3)         0         \n",
      "=================================================================\n",
      "Total params: 7,627,008\n",
      "Trainable params: 7,627,008\n",
      "Non-trainable params: 0\n",
      "_________________________________________________________________\n",
      "\n",
      "\n",
      "\n"
     ]
    }
   ],
   "metadata": {
    "ExecuteTime": {
     "end_time": "2021-01-26T11:35:49.661386Z",
     "start_time": "2021-01-26T11:35:48.788560Z"
    }
   }
  },
  {
   "cell_type": "markdown",
   "source": [
    "## 3.0 Train the Model\n",
    "The number of epochs are in config.json"
   ],
   "metadata": {}
  },
  {
   "cell_type": "code",
   "execution_count": 7,
   "source": [
    "history = model_train.train(dataset, initial_epoch=0)"
   ],
   "outputs": [
    {
     "output_type": "stream",
     "name": "stdout",
     "text": [
      "------------------------------PATCH_CAMELYON train------------------------------\n",
      "Epoch 1/50\n",
      "16384/16384 [==============================] - 729s 44ms/step - loss: 0.5369 - Original_CapsNet_loss: 0.1850 - Generator_loss: 0.8978 - Original_CapsNet_accuracy: 0.7298 - Generator_accuracy: 0.7992 - val_loss: 0.4814 - val_Original_CapsNet_loss: 0.1309 - val_Generator_loss: 0.8941 - val_Original_CapsNet_accuracy: 0.7935 - val_Generator_accuracy: 0.8138\n",
      "\n",
      "Epoch 00001: val_Original_CapsNet_accuracy improved from -inf to 0.79352, saving model to bin/original_capsnet_PATCH_CAMELYON_new_train.h5\n",
      "Epoch 2/50\n",
      "16384/16384 [==============================] - 720s 44ms/step - loss: 0.4764 - Original_CapsNet_loss: 0.1321 - Generator_loss: 0.8783 - Original_CapsNet_accuracy: 0.7940 - Generator_accuracy: 0.8178 - val_loss: 0.4759 - val_Original_CapsNet_loss: 0.1287 - val_Generator_loss: 0.8857 - val_Original_CapsNet_accuracy: 0.7892 - val_Generator_accuracy: 0.8289\n",
      "\n",
      "Epoch 00002: val_Original_CapsNet_accuracy did not improve from 0.79352\n",
      "Epoch 3/50\n",
      "16384/16384 [==============================] - 721s 44ms/step - loss: 0.4682 - Original_CapsNet_loss: 0.1264 - Generator_loss: 0.8720 - Original_CapsNet_accuracy: 0.8035 - Generator_accuracy: 0.8196 - val_loss: 0.4678 - val_Original_CapsNet_loss: 0.1219 - val_Generator_loss: 0.8824 - val_Original_CapsNet_accuracy: 0.8019 - val_Generator_accuracy: 0.8281\n",
      "\n",
      "Epoch 00003: val_Original_CapsNet_accuracy improved from 0.79352 to 0.80188, saving model to bin/original_capsnet_PATCH_CAMELYON_new_train.h5\n",
      "Epoch 4/50\n",
      "16384/16384 [==============================] - 722s 44ms/step - loss: 0.4641 - Original_CapsNet_loss: 0.1237 - Generator_loss: 0.8683 - Original_CapsNet_accuracy: 0.8082 - Generator_accuracy: 0.8198 - val_loss: 0.4640 - val_Original_CapsNet_loss: 0.1197 - val_Generator_loss: 0.8782 - val_Original_CapsNet_accuracy: 0.8168 - val_Generator_accuracy: 0.8256\n",
      "\n",
      "Epoch 00004: val_Original_CapsNet_accuracy improved from 0.80188 to 0.81683, saving model to bin/original_capsnet_PATCH_CAMELYON_new_train.h5\n",
      "Epoch 5/50\n",
      "16384/16384 [==============================] - 722s 44ms/step - loss: 0.4609 - Original_CapsNet_loss: 0.1215 - Generator_loss: 0.8657 - Original_CapsNet_accuracy: 0.8131 - Generator_accuracy: 0.8197 - val_loss: 0.4620 - val_Original_CapsNet_loss: 0.1183 - val_Generator_loss: 0.8768 - val_Original_CapsNet_accuracy: 0.8160 - val_Generator_accuracy: 0.8276\n",
      "\n",
      "Epoch 00005: val_Original_CapsNet_accuracy did not improve from 0.81683\n",
      "Epoch 6/50\n",
      "16384/16384 [==============================] - 723s 44ms/step - loss: 0.4586 - Original_CapsNet_loss: 0.1199 - Generator_loss: 0.8639 - Original_CapsNet_accuracy: 0.8154 - Generator_accuracy: 0.8199 - val_loss: 0.4698 - val_Original_CapsNet_loss: 0.1262 - val_Generator_loss: 0.8765 - val_Original_CapsNet_accuracy: 0.7895 - val_Generator_accuracy: 0.8286\n",
      "\n",
      "Epoch 00006: val_Original_CapsNet_accuracy did not improve from 0.81683\n",
      "Epoch 7/50\n",
      "16384/16384 [==============================] - 721s 44ms/step - loss: 0.4569 - Original_CapsNet_loss: 0.1184 - Generator_loss: 0.8634 - Original_CapsNet_accuracy: 0.8182 - Generator_accuracy: 0.8195 - val_loss: 0.4606 - val_Original_CapsNet_loss: 0.1176 - val_Generator_loss: 0.8750 - val_Original_CapsNet_accuracy: 0.8211 - val_Generator_accuracy: 0.8266\n",
      "\n",
      "Epoch 00007: val_Original_CapsNet_accuracy improved from 0.81683 to 0.82114, saving model to bin/original_capsnet_PATCH_CAMELYON_new_train.h5\n",
      "Epoch 8/50\n",
      "16384/16384 [==============================] - 722s 44ms/step - loss: 0.4549 - Original_CapsNet_loss: 0.1166 - Generator_loss: 0.8629 - Original_CapsNet_accuracy: 0.8207 - Generator_accuracy: 0.8191 - val_loss: 0.4705 - val_Original_CapsNet_loss: 0.1274 - val_Generator_loss: 0.8753 - val_Original_CapsNet_accuracy: 0.7903 - val_Generator_accuracy: 0.8242\n",
      "\n",
      "Epoch 00008: val_Original_CapsNet_accuracy did not improve from 0.82114\n",
      "Epoch 9/50\n",
      "16384/16384 [==============================] - 723s 44ms/step - loss: 0.4536 - Original_CapsNet_loss: 0.1156 - Generator_loss: 0.8624 - Original_CapsNet_accuracy: 0.8231 - Generator_accuracy: 0.8190 - val_loss: 0.4660 - val_Original_CapsNet_loss: 0.1232 - val_Generator_loss: 0.8744 - val_Original_CapsNet_accuracy: 0.7997 - val_Generator_accuracy: 0.8273\n",
      "\n",
      "Epoch 00009: val_Original_CapsNet_accuracy did not improve from 0.82114\n",
      "Epoch 10/50\n",
      "16384/16384 [==============================] - 723s 44ms/step - loss: 0.4519 - Original_CapsNet_loss: 0.1139 - Generator_loss: 0.8622 - Original_CapsNet_accuracy: 0.8255 - Generator_accuracy: 0.8195 - val_loss: 0.4620 - val_Original_CapsNet_loss: 0.1195 - val_Generator_loss: 0.8739 - val_Original_CapsNet_accuracy: 0.8054 - val_Generator_accuracy: 0.8252\n",
      "\n",
      "Epoch 00010: val_Original_CapsNet_accuracy did not improve from 0.82114\n",
      "Epoch 11/50\n",
      "16384/16384 [==============================] - 722s 44ms/step - loss: 0.4510 - Original_CapsNet_loss: 0.1131 - Generator_loss: 0.8619 - Original_CapsNet_accuracy: 0.8269 - Generator_accuracy: 0.8199 - val_loss: 0.4551 - val_Original_CapsNet_loss: 0.1125 - val_Generator_loss: 0.8739 - val_Original_CapsNet_accuracy: 0.8338 - val_Generator_accuracy: 0.8257\n",
      "\n",
      "Epoch 00011: val_Original_CapsNet_accuracy improved from 0.82114 to 0.83380, saving model to bin/original_capsnet_PATCH_CAMELYON_new_train.h5\n",
      "Epoch 12/50\n",
      "16384/16384 [==============================] - 724s 44ms/step - loss: 0.4494 - Original_CapsNet_loss: 0.1116 - Generator_loss: 0.8616 - Original_CapsNet_accuracy: 0.8296 - Generator_accuracy: 0.8198 - val_loss: 0.4591 - val_Original_CapsNet_loss: 0.1165 - val_Generator_loss: 0.8740 - val_Original_CapsNet_accuracy: 0.8195 - val_Generator_accuracy: 0.8245\n",
      "\n",
      "Epoch 00012: val_Original_CapsNet_accuracy did not improve from 0.83380\n",
      "Epoch 13/50\n",
      "16384/16384 [==============================] - 722s 44ms/step - loss: 0.4485 - Original_CapsNet_loss: 0.1109 - Generator_loss: 0.8614 - Original_CapsNet_accuracy: 0.8312 - Generator_accuracy: 0.8192 - val_loss: 0.4544 - val_Original_CapsNet_loss: 0.1119 - val_Generator_loss: 0.8738 - val_Original_CapsNet_accuracy: 0.8239 - val_Generator_accuracy: 0.8265\n",
      "\n",
      "Epoch 00013: val_Original_CapsNet_accuracy did not improve from 0.83380\n",
      "Epoch 14/50\n",
      "16384/16384 [==============================] - 724s 44ms/step - loss: 0.4480 - Original_CapsNet_loss: 0.1104 - Generator_loss: 0.8613 - Original_CapsNet_accuracy: 0.8316 - Generator_accuracy: 0.8199 - val_loss: 0.4513 - val_Original_CapsNet_loss: 0.1089 - val_Generator_loss: 0.8733 - val_Original_CapsNet_accuracy: 0.8318 - val_Generator_accuracy: 0.8278\n",
      "\n",
      "Epoch 00014: val_Original_CapsNet_accuracy did not improve from 0.83380\n",
      "Epoch 15/50\n",
      "16384/16384 [==============================] - 723s 44ms/step - loss: 0.4470 - Original_CapsNet_loss: 0.1095 - Generator_loss: 0.8610 - Original_CapsNet_accuracy: 0.8330 - Generator_accuracy: 0.8200 - val_loss: 0.4536 - val_Original_CapsNet_loss: 0.1112 - val_Generator_loss: 0.8735 - val_Original_CapsNet_accuracy: 0.8300 - val_Generator_accuracy: 0.8279\n",
      "\n",
      "Epoch 00015: val_Original_CapsNet_accuracy did not improve from 0.83380\n",
      "Epoch 16/50\n",
      "16384/16384 [==============================] - 724s 44ms/step - loss: 0.4458 - Original_CapsNet_loss: 0.1083 - Generator_loss: 0.8609 - Original_CapsNet_accuracy: 0.8349 - Generator_accuracy: 0.8198 - val_loss: 0.4591 - val_Original_CapsNet_loss: 0.1165 - val_Generator_loss: 0.8740 - val_Original_CapsNet_accuracy: 0.8244 - val_Generator_accuracy: 0.8232\n",
      "\n",
      "Epoch 00016: val_Original_CapsNet_accuracy did not improve from 0.83380\n",
      "Epoch 17/50\n",
      "16384/16384 [==============================] - 725s 44ms/step - loss: 0.4446 - Original_CapsNet_loss: 0.1072 - Generator_loss: 0.8606 - Original_CapsNet_accuracy: 0.8366 - Generator_accuracy: 0.8202 - val_loss: 0.4547 - val_Original_CapsNet_loss: 0.1125 - val_Generator_loss: 0.8731 - val_Original_CapsNet_accuracy: 0.8261 - val_Generator_accuracy: 0.8276\n",
      "\n",
      "Epoch 00017: val_Original_CapsNet_accuracy did not improve from 0.83380\n",
      "Epoch 18/50\n",
      "16384/16384 [==============================] - 725s 44ms/step - loss: 0.4438 - Original_CapsNet_loss: 0.1065 - Generator_loss: 0.8605 - Original_CapsNet_accuracy: 0.8376 - Generator_accuracy: 0.8197 - val_loss: 0.4653 - val_Original_CapsNet_loss: 0.1228 - val_Generator_loss: 0.8736 - val_Original_CapsNet_accuracy: 0.7996 - val_Generator_accuracy: 0.8257\n",
      "\n",
      "Epoch 00018: val_Original_CapsNet_accuracy did not improve from 0.83380\n",
      "Epoch 19/50\n",
      "16384/16384 [==============================] - 727s 44ms/step - loss: 0.4430 - Original_CapsNet_loss: 0.1057 - Generator_loss: 0.8605 - Original_CapsNet_accuracy: 0.8397 - Generator_accuracy: 0.8199 - val_loss: 0.4524 - val_Original_CapsNet_loss: 0.1100 - val_Generator_loss: 0.8735 - val_Original_CapsNet_accuracy: 0.8318 - val_Generator_accuracy: 0.8256\n",
      "\n",
      "Epoch 00019: val_Original_CapsNet_accuracy did not improve from 0.83380\n",
      "Epoch 20/50\n",
      "16384/16384 [==============================] - 725s 44ms/step - loss: 0.4424 - Original_CapsNet_loss: 0.1051 - Generator_loss: 0.8605 - Original_CapsNet_accuracy: 0.8414 - Generator_accuracy: 0.8205 - val_loss: 0.4591 - val_Original_CapsNet_loss: 0.1168 - val_Generator_loss: 0.8732 - val_Original_CapsNet_accuracy: 0.8200 - val_Generator_accuracy: 0.8251\n",
      "\n",
      "Epoch 00020: val_Original_CapsNet_accuracy did not improve from 0.83380\n",
      "Epoch 21/50\n",
      "16384/16384 [==============================] - 724s 44ms/step - loss: 0.4414 - Original_CapsNet_loss: 0.1041 - Generator_loss: 0.8604 - Original_CapsNet_accuracy: 0.8429 - Generator_accuracy: 0.8204 - val_loss: 0.4511 - val_Original_CapsNet_loss: 0.1090 - val_Generator_loss: 0.8727 - val_Original_CapsNet_accuracy: 0.8326 - val_Generator_accuracy: 0.8266\n",
      "\n",
      "Epoch 00021: val_Original_CapsNet_accuracy did not improve from 0.83380\n",
      "Epoch 22/50\n",
      "16384/16384 [==============================] - 725s 44ms/step - loss: 0.4407 - Original_CapsNet_loss: 0.1035 - Generator_loss: 0.8602 - Original_CapsNet_accuracy: 0.8431 - Generator_accuracy: 0.8206 - val_loss: 0.4604 - val_Original_CapsNet_loss: 0.1180 - val_Generator_loss: 0.8735 - val_Original_CapsNet_accuracy: 0.8171 - val_Generator_accuracy: 0.8247\n",
      "\n",
      "Epoch 00022: val_Original_CapsNet_accuracy did not improve from 0.83380\n",
      "Epoch 23/50\n",
      "16384/16384 [==============================] - 724s 44ms/step - loss: 0.4400 - Original_CapsNet_loss: 0.1029 - Generator_loss: 0.8601 - Original_CapsNet_accuracy: 0.8447 - Generator_accuracy: 0.8201 - val_loss: 0.4601 - val_Original_CapsNet_loss: 0.1177 - val_Generator_loss: 0.8734 - val_Original_CapsNet_accuracy: 0.8104 - val_Generator_accuracy: 0.8231\n",
      "\n",
      "Epoch 00023: val_Original_CapsNet_accuracy did not improve from 0.83380\n",
      "Epoch 24/50\n",
      "16384/16384 [==============================] - 725s 44ms/step - loss: 0.4395 - Original_CapsNet_loss: 0.1024 - Generator_loss: 0.8600 - Original_CapsNet_accuracy: 0.8453 - Generator_accuracy: 0.8207 - val_loss: 0.4626 - val_Original_CapsNet_loss: 0.1205 - val_Generator_loss: 0.8726 - val_Original_CapsNet_accuracy: 0.8049 - val_Generator_accuracy: 0.8275\n",
      "\n",
      "Epoch 00024: val_Original_CapsNet_accuracy did not improve from 0.83380\n",
      "Epoch 25/50\n",
      "16384/16384 [==============================] - 723s 44ms/step - loss: 0.4386 - Original_CapsNet_loss: 0.1016 - Generator_loss: 0.8599 - Original_CapsNet_accuracy: 0.8465 - Generator_accuracy: 0.8207 - val_loss: 0.4516 - val_Original_CapsNet_loss: 0.1095 - val_Generator_loss: 0.8728 - val_Original_CapsNet_accuracy: 0.8311 - val_Generator_accuracy: 0.8283\n",
      "\n",
      "Epoch 00025: val_Original_CapsNet_accuracy did not improve from 0.83380\n",
      "Epoch 26/50\n",
      "16384/16384 [==============================] - 724s 44ms/step - loss: 0.4378 - Original_CapsNet_loss: 0.1007 - Generator_loss: 0.8600 - Original_CapsNet_accuracy: 0.8482 - Generator_accuracy: 0.8207 - val_loss: 0.4527 - val_Original_CapsNet_loss: 0.1107 - val_Generator_loss: 0.8725 - val_Original_CapsNet_accuracy: 0.8283 - val_Generator_accuracy: 0.8262\n",
      "\n",
      "Epoch 00026: val_Original_CapsNet_accuracy did not improve from 0.83380\n",
      "Epoch 27/50\n",
      "16384/16384 [==============================] - 723s 44ms/step - loss: 0.4371 - Original_CapsNet_loss: 0.1001 - Generator_loss: 0.8597 - Original_CapsNet_accuracy: 0.8492 - Generator_accuracy: 0.8209 - val_loss: 0.4529 - val_Original_CapsNet_loss: 0.1109 - val_Generator_loss: 0.8727 - val_Original_CapsNet_accuracy: 0.8257 - val_Generator_accuracy: 0.8274\n",
      "\n",
      "Epoch 00027: val_Original_CapsNet_accuracy did not improve from 0.83380\n",
      "Epoch 28/50\n",
      "16384/16384 [==============================] - 724s 44ms/step - loss: 0.4366 - Original_CapsNet_loss: 0.0996 - Generator_loss: 0.8597 - Original_CapsNet_accuracy: 0.8505 - Generator_accuracy: 0.8209 - val_loss: 0.4511 - val_Original_CapsNet_loss: 0.1091 - val_Generator_loss: 0.8725 - val_Original_CapsNet_accuracy: 0.8285 - val_Generator_accuracy: 0.8285\n",
      "\n",
      "Epoch 00028: val_Original_CapsNet_accuracy did not improve from 0.83380\n",
      "Epoch 29/50\n",
      "16384/16384 [==============================] - 723s 44ms/step - loss: 0.4360 - Original_CapsNet_loss: 0.0991 - Generator_loss: 0.8595 - Original_CapsNet_accuracy: 0.8513 - Generator_accuracy: 0.8212 - val_loss: 0.4524 - val_Original_CapsNet_loss: 0.1102 - val_Generator_loss: 0.8728 - val_Original_CapsNet_accuracy: 0.8290 - val_Generator_accuracy: 0.8260\n",
      "\n",
      "Epoch 00029: val_Original_CapsNet_accuracy did not improve from 0.83380\n",
      "Epoch 30/50\n",
      "16384/16384 [==============================] - 723s 44ms/step - loss: 0.4355 - Original_CapsNet_loss: 0.0986 - Generator_loss: 0.8594 - Original_CapsNet_accuracy: 0.8518 - Generator_accuracy: 0.8212 - val_loss: 0.4483 - val_Original_CapsNet_loss: 0.1064 - val_Generator_loss: 0.8723 - val_Original_CapsNet_accuracy: 0.8361 - val_Generator_accuracy: 0.8300\n",
      "\n",
      "Epoch 00030: val_Original_CapsNet_accuracy improved from 0.83380 to 0.83612, saving model to bin/original_capsnet_PATCH_CAMELYON_new_train.h5\n",
      "Epoch 31/50\n",
      "16384/16384 [==============================] - 722s 44ms/step - loss: 0.4344 - Original_CapsNet_loss: 0.0975 - Generator_loss: 0.8594 - Original_CapsNet_accuracy: 0.8537 - Generator_accuracy: 0.8213 - val_loss: 0.4509 - val_Original_CapsNet_loss: 0.1089 - val_Generator_loss: 0.8724 - val_Original_CapsNet_accuracy: 0.8304 - val_Generator_accuracy: 0.8253\n",
      "\n",
      "Epoch 00031: val_Original_CapsNet_accuracy did not improve from 0.83612\n",
      "Epoch 32/50\n",
      "16384/16384 [==============================] - 722s 44ms/step - loss: 0.4343 - Original_CapsNet_loss: 0.0975 - Generator_loss: 0.8593 - Original_CapsNet_accuracy: 0.8536 - Generator_accuracy: 0.8215 - val_loss: 0.4555 - val_Original_CapsNet_loss: 0.1136 - val_Generator_loss: 0.8722 - val_Original_CapsNet_accuracy: 0.8187 - val_Generator_accuracy: 0.8300\n",
      "\n",
      "Epoch 00032: val_Original_CapsNet_accuracy did not improve from 0.83612\n",
      "Epoch 33/50\n",
      "16384/16384 [==============================] - 723s 44ms/step - loss: 0.4339 - Original_CapsNet_loss: 0.0970 - Generator_loss: 0.8594 - Original_CapsNet_accuracy: 0.8548 - Generator_accuracy: 0.8213 - val_loss: 0.4510 - val_Original_CapsNet_loss: 0.1092 - val_Generator_loss: 0.8721 - val_Original_CapsNet_accuracy: 0.8293 - val_Generator_accuracy: 0.8280\n",
      "\n",
      "Epoch 00033: val_Original_CapsNet_accuracy did not improve from 0.83612\n",
      "Epoch 34/50\n",
      "16384/16384 [==============================] - 725s 44ms/step - loss: 0.4331 - Original_CapsNet_loss: 0.0963 - Generator_loss: 0.8591 - Original_CapsNet_accuracy: 0.8557 - Generator_accuracy: 0.8218 - val_loss: 0.4559 - val_Original_CapsNet_loss: 0.1139 - val_Generator_loss: 0.8726 - val_Original_CapsNet_accuracy: 0.8187 - val_Generator_accuracy: 0.8268\n",
      "\n",
      "Epoch 00034: val_Original_CapsNet_accuracy did not improve from 0.83612\n",
      "Epoch 35/50\n",
      "16384/16384 [==============================] - 721s 44ms/step - loss: 0.4328 - Original_CapsNet_loss: 0.0960 - Generator_loss: 0.8590 - Original_CapsNet_accuracy: 0.8568 - Generator_accuracy: 0.8219 - val_loss: 0.4719 - val_Original_CapsNet_loss: 0.1298 - val_Generator_loss: 0.8726 - val_Original_CapsNet_accuracy: 0.7997 - val_Generator_accuracy: 0.8279\n",
      "\n",
      "Epoch 00035: val_Original_CapsNet_accuracy did not improve from 0.83612\n",
      "Epoch 36/50\n",
      "16384/16384 [==============================] - 723s 44ms/step - loss: 0.4320 - Original_CapsNet_loss: 0.0953 - Generator_loss: 0.8590 - Original_CapsNet_accuracy: 0.8579 - Generator_accuracy: 0.8218 - val_loss: 0.4562 - val_Original_CapsNet_loss: 0.1142 - val_Generator_loss: 0.8723 - val_Original_CapsNet_accuracy: 0.8243 - val_Generator_accuracy: 0.8271\n",
      "\n",
      "Epoch 00036: val_Original_CapsNet_accuracy did not improve from 0.83612\n",
      "Epoch 37/50\n",
      "16384/16384 [==============================] - 722s 44ms/step - loss: 0.4313 - Original_CapsNet_loss: 0.0946 - Generator_loss: 0.8589 - Original_CapsNet_accuracy: 0.8591 - Generator_accuracy: 0.8224 - val_loss: 0.4522 - val_Original_CapsNet_loss: 0.1104 - val_Generator_loss: 0.8719 - val_Original_CapsNet_accuracy: 0.8298 - val_Generator_accuracy: 0.8307\n",
      "\n",
      "Epoch 00037: val_Original_CapsNet_accuracy did not improve from 0.83612\n",
      "Epoch 38/50\n",
      "16384/16384 [==============================] - 722s 44ms/step - loss: 0.4311 - Original_CapsNet_loss: 0.0943 - Generator_loss: 0.8590 - Original_CapsNet_accuracy: 0.8595 - Generator_accuracy: 0.8221 - val_loss: 0.4504 - val_Original_CapsNet_loss: 0.1087 - val_Generator_loss: 0.8719 - val_Original_CapsNet_accuracy: 0.8355 - val_Generator_accuracy: 0.8243\n",
      "\n",
      "Epoch 00038: val_Original_CapsNet_accuracy did not improve from 0.83612\n",
      "Epoch 39/50\n",
      "16384/16384 [==============================] - 696s 42ms/step - loss: 0.4305 - Original_CapsNet_loss: 0.0939 - Generator_loss: 0.8588 - Original_CapsNet_accuracy: 0.8600 - Generator_accuracy: 0.8223 - val_loss: 0.4513 - val_Original_CapsNet_loss: 0.1095 - val_Generator_loss: 0.8718 - val_Original_CapsNet_accuracy: 0.8326 - val_Generator_accuracy: 0.8285\n",
      "\n",
      "Epoch 00039: val_Original_CapsNet_accuracy did not improve from 0.83612\n",
      "Epoch 40/50\n",
      "16384/16384 [==============================] - 666s 41ms/step - loss: 0.4301 - Original_CapsNet_loss: 0.0934 - Generator_loss: 0.8587 - Original_CapsNet_accuracy: 0.8618 - Generator_accuracy: 0.8224 - val_loss: 0.4494 - val_Original_CapsNet_loss: 0.1077 - val_Generator_loss: 0.8717 - val_Original_CapsNet_accuracy: 0.8333 - val_Generator_accuracy: 0.8259\n",
      "\n",
      "Epoch 00040: val_Original_CapsNet_accuracy did not improve from 0.83612\n",
      "Epoch 41/50\n",
      "16384/16384 [==============================] - 663s 40ms/step - loss: 0.4296 - Original_CapsNet_loss: 0.0930 - Generator_loss: 0.8588 - Original_CapsNet_accuracy: 0.8622 - Generator_accuracy: 0.8226 - val_loss: 0.4504 - val_Original_CapsNet_loss: 0.1087 - val_Generator_loss: 0.8718 - val_Original_CapsNet_accuracy: 0.8336 - val_Generator_accuracy: 0.8305\n",
      "\n",
      "Epoch 00041: val_Original_CapsNet_accuracy did not improve from 0.83612\n",
      "Epoch 42/50\n",
      "16384/16384 [==============================] - 665s 41ms/step - loss: 0.4290 - Original_CapsNet_loss: 0.0925 - Generator_loss: 0.8587 - Original_CapsNet_accuracy: 0.8636 - Generator_accuracy: 0.8228 - val_loss: 0.4571 - val_Original_CapsNet_loss: 0.1153 - val_Generator_loss: 0.8717 - val_Original_CapsNet_accuracy: 0.8215 - val_Generator_accuracy: 0.8276\n",
      "\n",
      "Epoch 00042: val_Original_CapsNet_accuracy did not improve from 0.83612\n",
      "Epoch 43/50\n",
      "16384/16384 [==============================] - 662s 40ms/step - loss: 0.4284 - Original_CapsNet_loss: 0.0918 - Generator_loss: 0.8587 - Original_CapsNet_accuracy: 0.8643 - Generator_accuracy: 0.8227 - val_loss: 0.4494 - val_Original_CapsNet_loss: 0.1077 - val_Generator_loss: 0.8717 - val_Original_CapsNet_accuracy: 0.8344 - val_Generator_accuracy: 0.8291\n",
      "\n",
      "Epoch 00043: val_Original_CapsNet_accuracy did not improve from 0.83612\n",
      "Epoch 44/50\n",
      "16384/16384 [==============================] - 663s 40ms/step - loss: 0.4280 - Original_CapsNet_loss: 0.0914 - Generator_loss: 0.8586 - Original_CapsNet_accuracy: 0.8644 - Generator_accuracy: 0.8223 - val_loss: 0.4504 - val_Original_CapsNet_loss: 0.1086 - val_Generator_loss: 0.8718 - val_Original_CapsNet_accuracy: 0.8327 - val_Generator_accuracy: 0.8303\n",
      "\n",
      "Epoch 00044: val_Original_CapsNet_accuracy did not improve from 0.83612\n",
      "Epoch 45/50\n",
      "16384/16384 [==============================] - 663s 40ms/step - loss: 0.4276 - Original_CapsNet_loss: 0.0910 - Generator_loss: 0.8586 - Original_CapsNet_accuracy: 0.8656 - Generator_accuracy: 0.8229 - val_loss: 0.4520 - val_Original_CapsNet_loss: 0.1103 - val_Generator_loss: 0.8717 - val_Original_CapsNet_accuracy: 0.8295 - val_Generator_accuracy: 0.8282\n",
      "\n",
      "Epoch 00045: val_Original_CapsNet_accuracy did not improve from 0.83612\n",
      "Epoch 46/50\n",
      "16384/16384 [==============================] - 663s 40ms/step - loss: 0.4274 - Original_CapsNet_loss: 0.0908 - Generator_loss: 0.8586 - Original_CapsNet_accuracy: 0.8660 - Generator_accuracy: 0.8225 - val_loss: 0.4577 - val_Original_CapsNet_loss: 0.1160 - val_Generator_loss: 0.8717 - val_Original_CapsNet_accuracy: 0.8187 - val_Generator_accuracy: 0.8264\n",
      "\n",
      "Epoch 00046: val_Original_CapsNet_accuracy did not improve from 0.83612\n",
      "Epoch 47/50\n",
      "16384/16384 [==============================] - 664s 41ms/step - loss: 0.4268 - Original_CapsNet_loss: 0.0903 - Generator_loss: 0.8584 - Original_CapsNet_accuracy: 0.8665 - Generator_accuracy: 0.8234 - val_loss: 0.4514 - val_Original_CapsNet_loss: 0.1097 - val_Generator_loss: 0.8715 - val_Original_CapsNet_accuracy: 0.8272 - val_Generator_accuracy: 0.8286\n",
      "\n",
      "Epoch 00047: val_Original_CapsNet_accuracy did not improve from 0.83612\n",
      "Epoch 48/50\n",
      "16384/16384 [==============================] - 664s 41ms/step - loss: 0.4262 - Original_CapsNet_loss: 0.0897 - Generator_loss: 0.8585 - Original_CapsNet_accuracy: 0.8673 - Generator_accuracy: 0.8230 - val_loss: 0.4525 - val_Original_CapsNet_loss: 0.1108 - val_Generator_loss: 0.8717 - val_Original_CapsNet_accuracy: 0.8291 - val_Generator_accuracy: 0.8297\n",
      "\n",
      "Epoch 00048: val_Original_CapsNet_accuracy did not improve from 0.83612\n",
      "Epoch 49/50\n",
      "16384/16384 [==============================] - 663s 40ms/step - loss: 0.4260 - Original_CapsNet_loss: 0.0895 - Generator_loss: 0.8584 - Original_CapsNet_accuracy: 0.8679 - Generator_accuracy: 0.8231 - val_loss: 0.4642 - val_Original_CapsNet_loss: 0.1225 - val_Generator_loss: 0.8716 - val_Original_CapsNet_accuracy: 0.8029 - val_Generator_accuracy: 0.8281\n",
      "\n",
      "Epoch 00049: val_Original_CapsNet_accuracy did not improve from 0.83612\n",
      "Epoch 50/50\n",
      "16384/16384 [==============================] - 666s 41ms/step - loss: 0.4260 - Original_CapsNet_loss: 0.0895 - Generator_loss: 0.8583 - Original_CapsNet_accuracy: 0.8682 - Generator_accuracy: 0.8231 - val_loss: 0.4611 - val_Original_CapsNet_loss: 0.1195 - val_Generator_loss: 0.8714 - val_Original_CapsNet_accuracy: 0.8090 - val_Generator_accuracy: 0.8272\n",
      "\n",
      "Epoch 00050: val_Original_CapsNet_accuracy did not improve from 0.83612\n"
     ]
    }
   ],
   "metadata": {
    "ExecuteTime": {
     "end_time": "2021-01-26T11:41:04.159142Z",
     "start_time": "2021-01-26T11:40:57.403433Z"
    }
   }
  },
  {
   "cell_type": "code",
   "execution_count": 8,
   "source": [
    "plotHistory(history)"
   ],
   "outputs": [
    {
     "output_type": "display_data",
     "data": {
      "image/png": "[encoded data removed]",
      "text/plain": [
       "<Figure size 576x360 with 1 Axes>"
      ]
     },
     "metadata": {
      "needs_background": "light"
     }
    }
   ],
   "metadata": {}
  }
 ],
 "metadata": {
  "kernelspec": {
   "name": "python3",
   "display_name": "Python 3.6.9 64-bit"
  },
  "language_info": {
   "codemirror_mode": {
    "name": "ipython",
    "version": 3
   },
   "file_extension": ".py",
   "mimetype": "text/x-python",
   "name": "python",
   "nbconvert_exporter": "python",
   "pygments_lexer": "ipython3",
   "version": "3.6.9"
  },
  "toc": {
   "base_numbering": 1,
   "nav_menu": {},
   "number_sections": false,
   "sideBar": true,
   "skip_h1_title": false,
   "title_cell": "Table of Contents",
   "title_sidebar": "Contents",
   "toc_cell": false,
   "toc_position": {},
   "toc_section_display": true,
   "toc_window_display": false
  },
  "varInspector": {
   "cols": {
    "lenName": 16,
    "lenType": 16,
    "lenVar": 40
   },
   "kernels_config": {
    "python": {
     "delete_cmd_postfix": "",
     "delete_cmd_prefix": "del ",
     "library": "var_list.py",
     "varRefreshCmd": "print(var_dic_list())"
    },
    "r": {
     "delete_cmd_postfix": ") ",
     "delete_cmd_prefix": "rm(",
     "library": "var_list.r",
     "varRefreshCmd": "cat(var_dic_list()) "
    }
   },
   "types_to_exclude": [
    "module",
    "function",
    "builtin_function_or_method",
    "instance",
    "_Feature"
   ],
   "window_display": false
  },
  "interpreter": {
   "hash": "31f2aee4e71d21fbe5cf8b01ff0e069b9275f58929596ceb00d14d90e3e16cd6"
  }
 },
 "nbformat": 4,
 "nbformat_minor": 4
}