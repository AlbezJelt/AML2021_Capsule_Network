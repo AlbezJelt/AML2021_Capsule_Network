{
 "cells": [
  {
   "cell_type": "markdown",
   "source": [
    "# Original CapsNet Model Train"
   ],
   "metadata": {}
  },
  {
   "cell_type": "code",
   "execution_count": null,
   "source": [
    "%load_ext autoreload\n",
    "%autoreload 2"
   ],
   "outputs": [],
   "metadata": {
    "ExecuteTime": {
     "end_time": "2021-01-26T11:34:31.431990Z",
     "start_time": "2021-01-26T11:34:31.422498Z"
    }
   }
  },
  {
   "cell_type": "code",
   "execution_count": null,
   "source": [
    "import tensorflow as tf\n",
    "from utils import Dataset, plotHistory\n",
    "from models import CapsNet"
   ],
   "outputs": [],
   "metadata": {
    "ExecuteTime": {
     "end_time": "2021-01-26T11:34:33.092592Z",
     "start_time": "2021-01-26T11:34:31.773426Z"
    }
   }
  },
  {
   "cell_type": "markdown",
   "source": [
    "Setup GPU for training."
   ],
   "metadata": {}
  },
  {
   "cell_type": "code",
   "execution_count": null,
   "source": [
    "gpus = tf.config.experimental.list_physical_devices('GPU')\n",
    "tf.config.experimental.set_visible_devices(gpus[0], 'GPU')\n",
    "tf.config.experimental.set_memory_growth(gpus[0], True)"
   ],
   "outputs": [],
   "metadata": {
    "ExecuteTime": {
     "end_time": "2021-01-26T11:34:33.173488Z",
     "start_time": "2021-01-26T11:34:33.126360Z"
    }
   }
  },
  {
   "cell_type": "markdown",
   "source": [
    "Define the model name to use and the number of routing iterations"
   ],
   "metadata": {}
  },
  {
   "cell_type": "code",
   "execution_count": null,
   "source": [
    "model_name = 'PATCH_CAMELYON' \n",
    "n_routing = 3"
   ],
   "outputs": [],
   "metadata": {
    "ExecuteTime": {
     "end_time": "2021-01-26T11:35:22.584111Z",
     "start_time": "2021-01-26T11:35:22.561220Z"
    }
   }
  },
  {
   "cell_type": "markdown",
   "source": [
    "## 1.0 Import the Dataset\n",
    "All the model hyperparameters are stored in config.json"
   ],
   "metadata": {}
  },
  {
   "cell_type": "code",
   "execution_count": null,
   "source": [
    "dataset = Dataset(model_name, config_path='config.json') "
   ],
   "outputs": [],
   "metadata": {
    "ExecuteTime": {
     "end_time": "2021-01-26T11:35:23.625015Z",
     "start_time": "2021-01-26T11:35:23.312138Z"
    }
   }
  },
  {
   "cell_type": "markdown",
   "source": [
    "## 2.0 Load the Model"
   ],
   "metadata": {}
  },
  {
   "cell_type": "code",
   "execution_count": null,
   "source": [
    "model_train = CapsNet(model_name, mode='train', verbose=True, n_routing=n_routing)"
   ],
   "outputs": [],
   "metadata": {
    "ExecuteTime": {
     "end_time": "2021-01-26T11:35:49.661386Z",
     "start_time": "2021-01-26T11:35:48.788560Z"
    }
   }
  },
  {
   "cell_type": "markdown",
   "source": [
    "## 3.0 Train the Model\n",
    "The number of epochs are in config.json"
   ],
   "metadata": {}
  },
  {
   "cell_type": "code",
   "execution_count": null,
   "source": [
    "history = model_train.train(dataset, initial_epoch=0)"
   ],
   "outputs": [],
   "metadata": {
    "ExecuteTime": {
     "end_time": "2021-01-26T11:41:04.159142Z",
     "start_time": "2021-01-26T11:40:57.403433Z"
    }
   }
  },
  {
   "cell_type": "code",
   "execution_count": null,
   "source": [
    "plotHistory(history)"
   ],
   "outputs": [],
   "metadata": {}
  }
 ],
 "metadata": {
  "kernelspec": {
   "name": "python3",
   "display_name": "Python 3.6.9 64-bit"
  },
  "language_info": {
   "codemirror_mode": {
    "name": "ipython",
    "version": 3
   },
   "file_extension": ".py",
   "mimetype": "text/x-python",
   "name": "python",
   "nbconvert_exporter": "python",
   "pygments_lexer": "ipython3",
   "version": "3.6.9"
  },
  "toc": {
   "base_numbering": 1,
   "nav_menu": {},
   "number_sections": false,
   "sideBar": true,
   "skip_h1_title": false,
   "title_cell": "Table of Contents",
   "title_sidebar": "Contents",
   "toc_cell": false,
   "toc_position": {},
   "toc_section_display": true,
   "toc_window_display": false
  },
  "varInspector": {
   "cols": {
    "lenName": 16,
    "lenType": 16,
    "lenVar": 40
   },
   "kernels_config": {
    "python": {
     "delete_cmd_postfix": "",
     "delete_cmd_prefix": "del ",
     "library": "var_list.py",
     "varRefreshCmd": "print(var_dic_list())"
    },
    "r": {
     "delete_cmd_postfix": ") ",
     "delete_cmd_prefix": "rm(",
     "library": "var_list.r",
     "varRefreshCmd": "cat(var_dic_list()) "
    }
   },
   "types_to_exclude": [
    "module",
    "function",
    "builtin_function_or_method",
    "instance",
    "_Feature"
   ],
   "window_display": false
  },
  "interpreter": {
   "hash": "31f2aee4e71d21fbe5cf8b01ff0e069b9275f58929596ceb00d14d90e3e16cd6"
  }
 },
 "nbformat": 4,
 "nbformat_minor": 4
}