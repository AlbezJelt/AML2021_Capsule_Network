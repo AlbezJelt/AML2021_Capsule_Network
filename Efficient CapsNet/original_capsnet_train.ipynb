{
 "cells": [
  {
   "cell_type": "markdown",
   "source": [
    "# Original CapsNet Model Train"
   ],
   "metadata": {}
  },
  {
   "cell_type": "code",
   "execution_count": 1,
   "source": [
    "%load_ext autoreload\n",
    "%autoreload 2"
   ],
   "outputs": [],
   "metadata": {
    "ExecuteTime": {
     "end_time": "2021-01-26T11:34:31.431990Z",
     "start_time": "2021-01-26T11:34:31.422498Z"
    }
   }
  },
  {
   "cell_type": "code",
   "execution_count": 2,
   "source": [
    "import tensorflow as tf\n",
    "from utils import Dataset, plotHistory\n",
    "from models import CapsNet"
   ],
   "outputs": [],
   "metadata": {
    "ExecuteTime": {
     "end_time": "2021-01-26T11:34:33.092592Z",
     "start_time": "2021-01-26T11:34:31.773426Z"
    }
   }
  },
  {
   "cell_type": "markdown",
   "source": [
    "Setup GPU for training."
   ],
   "metadata": {}
  },
  {
   "cell_type": "code",
   "execution_count": 3,
   "source": [
    "gpus = tf.config.experimental.list_physical_devices('GPU')\n",
    "tf.config.experimental.set_visible_devices(gpus[0], 'GPU')\n",
    "tf.config.experimental.set_memory_growth(gpus[0], True)"
   ],
   "outputs": [],
   "metadata": {
    "ExecuteTime": {
     "end_time": "2021-01-26T11:34:33.173488Z",
     "start_time": "2021-01-26T11:34:33.126360Z"
    }
   }
  },
  {
   "cell_type": "markdown",
   "source": [
    "Define the model name to use and the number of routing iterations"
   ],
   "metadata": {}
  },
  {
   "cell_type": "code",
   "execution_count": 4,
   "source": [
    "model_name = 'PATCH_CAMELYON' \n",
    "n_routing = 3"
   ],
   "outputs": [],
   "metadata": {
    "ExecuteTime": {
     "end_time": "2021-01-26T11:35:22.584111Z",
     "start_time": "2021-01-26T11:35:22.561220Z"
    }
   }
  },
  {
   "cell_type": "markdown",
   "source": [
    "## 1.0 Import the Dataset\n",
    "All the model hyperparameters are stored in config.json"
   ],
   "metadata": {}
  },
  {
   "cell_type": "code",
   "execution_count": 5,
   "source": [
    "dataset = Dataset(model_name, config_path='config.json') "
   ],
   "outputs": [
    {
     "output_type": "stream",
     "name": "stdout",
     "text": [
      "[INFO] Dataset loaded!\n"
     ]
    }
   ],
   "metadata": {
    "ExecuteTime": {
     "end_time": "2021-01-26T11:35:23.625015Z",
     "start_time": "2021-01-26T11:35:23.312138Z"
    }
   }
  },
  {
   "cell_type": "markdown",
   "source": [
    "## 2.0 Load the Model"
   ],
   "metadata": {}
  },
  {
   "cell_type": "code",
   "execution_count": 6,
   "source": [
    "model_train = CapsNet(model_name, mode='train', verbose=True, n_routing=n_routing)"
   ],
   "outputs": [
    {
     "output_type": "stream",
     "name": "stdout",
     "text": [
      "Model: \"Original_CapsNet\"\n",
      "__________________________________________________________________________________________________\n",
      "Layer (type)                    Output Shape         Param #     Connected to                     \n",
      "==================================================================================================\n",
      "input_4 (InputLayer)            [(None, 48, 48, 3)]  0                                            \n",
      "__________________________________________________________________________________________________\n",
      "conv2d (Conv2D)                 (None, 40, 40, 256)  62464       input_4[0][0]                    \n",
      "__________________________________________________________________________________________________\n",
      "primary_caps (PrimaryCaps)      (None, 16, 16, 32, 8 5308672     conv2d[0][0]                     \n",
      "__________________________________________________________________________________________________\n",
      "digit_caps (DigitCaps)          (None, 2, 16)        2097184     primary_caps[0][0]               \n",
      "__________________________________________________________________________________________________\n",
      "tf.reshape (TFOpLambda)         (None, 8192, 8)      0           primary_caps[0][0]               \n",
      "__________________________________________________________________________________________________\n",
      "capsnet_output_len (Length)     (None, 2)            0           digit_caps[0][0]                 \n",
      "==================================================================================================\n",
      "Total params: 7,468,320\n",
      "Trainable params: 7,468,320\n",
      "Non-trainable params: 0\n",
      "__________________________________________________________________________________________________\n",
      "\n",
      "\n",
      "\n",
      "Model: \"Generator\"\n",
      "_________________________________________________________________\n",
      "Layer (type)                 Output Shape              Param #   \n",
      "=================================================================\n",
      "input_5 (InputLayer)         [(None, 32)]              0         \n",
      "_________________________________________________________________\n",
      "dense (Dense)                (None, 512)               16896     \n",
      "_________________________________________________________________\n",
      "dense_1 (Dense)              (None, 1024)              525312    \n",
      "_________________________________________________________________\n",
      "dense_2 (Dense)              (None, 6912)              7084800   \n",
      "_________________________________________________________________\n",
      "out_generator (Reshape)      (None, 48, 48, 3)         0         \n",
      "=================================================================\n",
      "Total params: 7,627,008\n",
      "Trainable params: 7,627,008\n",
      "Non-trainable params: 0\n",
      "_________________________________________________________________\n",
      "\n",
      "\n",
      "\n"
     ]
    }
   ],
   "metadata": {
    "ExecuteTime": {
     "end_time": "2021-01-26T11:35:49.661386Z",
     "start_time": "2021-01-26T11:35:48.788560Z"
    }
   }
  },
  {
   "cell_type": "markdown",
   "source": [
    "## 3.0 Train the Model\n",
    "The number of epochs are in config.json"
   ],
   "metadata": {}
  },
  {
   "cell_type": "code",
   "execution_count": 7,
   "source": [
    "history = model_train.train(dataset, initial_epoch=0)"
   ],
   "outputs": [
    {
     "output_type": "stream",
     "name": "stdout",
     "text": [
      "------------------------------PATCH_CAMELYON train------------------------------\n",
      "Epoch 1/50\n",
      "8192/8192 [==============================] - 620s 75ms/step - loss: 0.5663 - Original_CapsNet_loss: 0.2126 - Generator_loss: 0.9022 - Original_CapsNet_accuracy: 0.7023 - Generator_accuracy: 0.7830 - val_loss: 0.4784 - val_Original_CapsNet_loss: 0.1278 - val_Generator_loss: 0.8943 - val_Original_CapsNet_accuracy: 0.7903 - val_Generator_accuracy: 0.8277\n",
      "\n",
      "Epoch 00001: val_Original_CapsNet_accuracy improved from -inf to 0.79031, saving model to bin/original_capsnet_PATCH_CAMELYON_new_train.h5\n",
      "Epoch 2/50\n",
      "8192/8192 [==============================] - 612s 75ms/step - loss: 0.4734 - Original_CapsNet_loss: 0.1288 - Generator_loss: 0.8791 - Original_CapsNet_accuracy: 0.7992 - Generator_accuracy: 0.8192 - val_loss: 0.4860 - val_Original_CapsNet_loss: 0.1376 - val_Generator_loss: 0.8886 - val_Original_CapsNet_accuracy: 0.7888 - val_Generator_accuracy: 0.8214\n",
      "\n",
      "Epoch 00002: val_Original_CapsNet_accuracy did not improve from 0.79031\n",
      "Epoch 3/50\n",
      "8192/8192 [==============================] - 613s 75ms/step - loss: 0.4649 - Original_CapsNet_loss: 0.1225 - Generator_loss: 0.8732 - Original_CapsNet_accuracy: 0.8099 - Generator_accuracy: 0.8213 - val_loss: 0.4759 - val_Original_CapsNet_loss: 0.1298 - val_Generator_loss: 0.8828 - val_Original_CapsNet_accuracy: 0.7773 - val_Generator_accuracy: 0.8308\n",
      "\n",
      "Epoch 00003: val_Original_CapsNet_accuracy did not improve from 0.79031\n",
      "Epoch 4/50\n",
      "8192/8192 [==============================] - 613s 75ms/step - loss: 0.4601 - Original_CapsNet_loss: 0.1191 - Generator_loss: 0.8697 - Original_CapsNet_accuracy: 0.8158 - Generator_accuracy: 0.8227 - val_loss: 0.4728 - val_Original_CapsNet_loss: 0.1275 - val_Generator_loss: 0.8808 - val_Original_CapsNet_accuracy: 0.7892 - val_Generator_accuracy: 0.8298\n",
      "\n",
      "Epoch 00004: val_Original_CapsNet_accuracy did not improve from 0.79031\n",
      "Epoch 5/50\n",
      "8192/8192 [==============================] - 612s 75ms/step - loss: 0.4565 - Original_CapsNet_loss: 0.1165 - Generator_loss: 0.8672 - Original_CapsNet_accuracy: 0.8209 - Generator_accuracy: 0.8229 - val_loss: 0.4590 - val_Original_CapsNet_loss: 0.1145 - val_Generator_loss: 0.8789 - val_Original_CapsNet_accuracy: 0.8233 - val_Generator_accuracy: 0.8240\n",
      "\n",
      "Epoch 00005: val_Original_CapsNet_accuracy improved from 0.79031 to 0.82333, saving model to bin/original_capsnet_PATCH_CAMELYON_new_train.h5\n",
      "Epoch 6/50\n",
      "8192/8192 [==============================] - 615s 75ms/step - loss: 0.4538 - Original_CapsNet_loss: 0.1146 - Generator_loss: 0.8653 - Original_CapsNet_accuracy: 0.8244 - Generator_accuracy: 0.8227 - val_loss: 0.4677 - val_Original_CapsNet_loss: 0.1239 - val_Generator_loss: 0.8771 - val_Original_CapsNet_accuracy: 0.7936 - val_Generator_accuracy: 0.8292\n",
      "\n",
      "Epoch 00006: val_Original_CapsNet_accuracy did not improve from 0.82333\n",
      "Epoch 7/50\n",
      "8192/8192 [==============================] - 612s 75ms/step - loss: 0.4518 - Original_CapsNet_loss: 0.1131 - Generator_loss: 0.8642 - Original_CapsNet_accuracy: 0.8276 - Generator_accuracy: 0.8230 - val_loss: 0.4579 - val_Original_CapsNet_loss: 0.1144 - val_Generator_loss: 0.8761 - val_Original_CapsNet_accuracy: 0.8172 - val_Generator_accuracy: 0.8275\n",
      "\n",
      "Epoch 00007: val_Original_CapsNet_accuracy did not improve from 0.82333\n",
      "Epoch 8/50\n",
      "8192/8192 [==============================] - 611s 75ms/step - loss: 0.4498 - Original_CapsNet_loss: 0.1114 - Generator_loss: 0.8633 - Original_CapsNet_accuracy: 0.8297 - Generator_accuracy: 0.8226 - val_loss: 0.4552 - val_Original_CapsNet_loss: 0.1121 - val_Generator_loss: 0.8751 - val_Original_CapsNet_accuracy: 0.8206 - val_Generator_accuracy: 0.8305\n",
      "\n",
      "Epoch 00008: val_Original_CapsNet_accuracy did not improve from 0.82333\n",
      "Epoch 9/50\n",
      "8192/8192 [==============================] - 611s 75ms/step - loss: 0.4477 - Original_CapsNet_loss: 0.1097 - Generator_loss: 0.8623 - Original_CapsNet_accuracy: 0.8328 - Generator_accuracy: 0.8226 - val_loss: 0.4576 - val_Original_CapsNet_loss: 0.1148 - val_Generator_loss: 0.8743 - val_Original_CapsNet_accuracy: 0.8177 - val_Generator_accuracy: 0.8314\n",
      "\n",
      "Epoch 00009: val_Original_CapsNet_accuracy did not improve from 0.82333\n",
      "Epoch 10/50\n",
      "8192/8192 [==============================] - 611s 75ms/step - loss: 0.4467 - Original_CapsNet_loss: 0.1089 - Generator_loss: 0.8618 - Original_CapsNet_accuracy: 0.8343 - Generator_accuracy: 0.8224 - val_loss: 0.4521 - val_Original_CapsNet_loss: 0.1093 - val_Generator_loss: 0.8747 - val_Original_CapsNet_accuracy: 0.8319 - val_Generator_accuracy: 0.8273\n",
      "\n",
      "Epoch 00010: val_Original_CapsNet_accuracy improved from 0.82333 to 0.83194, saving model to bin/original_capsnet_PATCH_CAMELYON_new_train.h5\n",
      "Epoch 11/50\n",
      "8192/8192 [==============================] - 611s 75ms/step - loss: 0.4454 - Original_CapsNet_loss: 0.1077 - Generator_loss: 0.8615 - Original_CapsNet_accuracy: 0.8357 - Generator_accuracy: 0.8223 - val_loss: 0.4716 - val_Original_CapsNet_loss: 0.1291 - val_Generator_loss: 0.8739 - val_Original_CapsNet_accuracy: 0.7905 - val_Generator_accuracy: 0.8315\n",
      "\n",
      "Epoch 00011: val_Original_CapsNet_accuracy did not improve from 0.83194\n",
      "Epoch 12/50\n",
      "8192/8192 [==============================] - 612s 75ms/step - loss: 0.4441 - Original_CapsNet_loss: 0.1065 - Generator_loss: 0.8614 - Original_CapsNet_accuracy: 0.8385 - Generator_accuracy: 0.8220 - val_loss: 0.4553 - val_Original_CapsNet_loss: 0.1128 - val_Generator_loss: 0.8737 - val_Original_CapsNet_accuracy: 0.8222 - val_Generator_accuracy: 0.8318\n",
      "\n",
      "Epoch 00012: val_Original_CapsNet_accuracy did not improve from 0.83194\n",
      "Epoch 13/50\n",
      "8192/8192 [==============================] - 612s 75ms/step - loss: 0.4429 - Original_CapsNet_loss: 0.1054 - Generator_loss: 0.8610 - Original_CapsNet_accuracy: 0.8404 - Generator_accuracy: 0.8223 - val_loss: 0.4629 - val_Original_CapsNet_loss: 0.1205 - val_Generator_loss: 0.8735 - val_Original_CapsNet_accuracy: 0.8015 - val_Generator_accuracy: 0.8306\n",
      "\n",
      "Epoch 00013: val_Original_CapsNet_accuracy did not improve from 0.83194\n",
      "Epoch 14/50\n",
      "8192/8192 [==============================] - 612s 75ms/step - loss: 0.4419 - Original_CapsNet_loss: 0.1044 - Generator_loss: 0.8608 - Original_CapsNet_accuracy: 0.8425 - Generator_accuracy: 0.8223 - val_loss: 0.4520 - val_Original_CapsNet_loss: 0.1097 - val_Generator_loss: 0.8732 - val_Original_CapsNet_accuracy: 0.8286 - val_Generator_accuracy: 0.8275\n",
      "\n",
      "Epoch 00014: val_Original_CapsNet_accuracy did not improve from 0.83194\n",
      "Epoch 15/50\n",
      "8192/8192 [==============================] - 611s 75ms/step - loss: 0.4409 - Original_CapsNet_loss: 0.1035 - Generator_loss: 0.8606 - Original_CapsNet_accuracy: 0.8439 - Generator_accuracy: 0.8222 - val_loss: 0.4564 - val_Original_CapsNet_loss: 0.1139 - val_Generator_loss: 0.8737 - val_Original_CapsNet_accuracy: 0.8197 - val_Generator_accuracy: 0.8262\n",
      "\n",
      "Epoch 00015: val_Original_CapsNet_accuracy did not improve from 0.83194\n",
      "Epoch 16/50\n",
      "8192/8192 [==============================] - 609s 74ms/step - loss: 0.4399 - Original_CapsNet_loss: 0.1025 - Generator_loss: 0.8606 - Original_CapsNet_accuracy: 0.8453 - Generator_accuracy: 0.8225 - val_loss: 0.4542 - val_Original_CapsNet_loss: 0.1118 - val_Generator_loss: 0.8733 - val_Original_CapsNet_accuracy: 0.8255 - val_Generator_accuracy: 0.8276\n",
      "\n",
      "Epoch 00016: val_Original_CapsNet_accuracy did not improve from 0.83194\n",
      "Epoch 17/50\n",
      "8192/8192 [==============================] - 612s 75ms/step - loss: 0.4389 - Original_CapsNet_loss: 0.1017 - Generator_loss: 0.8602 - Original_CapsNet_accuracy: 0.8467 - Generator_accuracy: 0.8228 - val_loss: 0.4523 - val_Original_CapsNet_loss: 0.1101 - val_Generator_loss: 0.8731 - val_Original_CapsNet_accuracy: 0.8261 - val_Generator_accuracy: 0.8264\n",
      "\n",
      "Epoch 00017: val_Original_CapsNet_accuracy did not improve from 0.83194\n",
      "Epoch 18/50\n",
      "8192/8192 [==============================] - 612s 75ms/step - loss: 0.4378 - Original_CapsNet_loss: 0.1007 - Generator_loss: 0.8601 - Original_CapsNet_accuracy: 0.8481 - Generator_accuracy: 0.8224 - val_loss: 0.4510 - val_Original_CapsNet_loss: 0.1088 - val_Generator_loss: 0.8730 - val_Original_CapsNet_accuracy: 0.8307 - val_Generator_accuracy: 0.8241\n",
      "\n",
      "Epoch 00018: val_Original_CapsNet_accuracy did not improve from 0.83194\n",
      "Epoch 19/50\n",
      "8192/8192 [==============================] - 612s 75ms/step - loss: 0.4375 - Original_CapsNet_loss: 0.1004 - Generator_loss: 0.8599 - Original_CapsNet_accuracy: 0.8489 - Generator_accuracy: 0.8229 - val_loss: 0.4716 - val_Original_CapsNet_loss: 0.1290 - val_Generator_loss: 0.8740 - val_Original_CapsNet_accuracy: 0.7974 - val_Generator_accuracy: 0.8259\n",
      "\n",
      "Epoch 00019: val_Original_CapsNet_accuracy did not improve from 0.83194\n",
      "Epoch 20/50\n",
      "8192/8192 [==============================] - 612s 75ms/step - loss: 0.4361 - Original_CapsNet_loss: 0.0990 - Generator_loss: 0.8599 - Original_CapsNet_accuracy: 0.8517 - Generator_accuracy: 0.8224 - val_loss: 0.4497 - val_Original_CapsNet_loss: 0.1074 - val_Generator_loss: 0.8732 - val_Original_CapsNet_accuracy: 0.8344 - val_Generator_accuracy: 0.8256\n",
      "\n",
      "Epoch 00020: val_Original_CapsNet_accuracy improved from 0.83194 to 0.83444, saving model to bin/original_capsnet_PATCH_CAMELYON_new_train.h5\n",
      "Epoch 21/50\n",
      "8192/8192 [==============================] - 612s 75ms/step - loss: 0.4354 - Original_CapsNet_loss: 0.0983 - Generator_loss: 0.8599 - Original_CapsNet_accuracy: 0.8527 - Generator_accuracy: 0.8224 - val_loss: 0.4519 - val_Original_CapsNet_loss: 0.1100 - val_Generator_loss: 0.8723 - val_Original_CapsNet_accuracy: 0.8270 - val_Generator_accuracy: 0.8277\n",
      "\n",
      "Epoch 00021: val_Original_CapsNet_accuracy did not improve from 0.83444\n",
      "Epoch 22/50\n",
      "8192/8192 [==============================] - 611s 75ms/step - loss: 0.4346 - Original_CapsNet_loss: 0.0976 - Generator_loss: 0.8598 - Original_CapsNet_accuracy: 0.8540 - Generator_accuracy: 0.8225 - val_loss: 0.4546 - val_Original_CapsNet_loss: 0.1126 - val_Generator_loss: 0.8724 - val_Original_CapsNet_accuracy: 0.8214 - val_Generator_accuracy: 0.8299\n",
      "\n",
      "Epoch 00022: val_Original_CapsNet_accuracy did not improve from 0.83444\n",
      "Epoch 23/50\n",
      "8192/8192 [==============================] - 615s 75ms/step - loss: 0.4341 - Original_CapsNet_loss: 0.0972 - Generator_loss: 0.8595 - Original_CapsNet_accuracy: 0.8544 - Generator_accuracy: 0.8226 - val_loss: 0.4621 - val_Original_CapsNet_loss: 0.1199 - val_Generator_loss: 0.8730 - val_Original_CapsNet_accuracy: 0.8113 - val_Generator_accuracy: 0.8280\n",
      "\n",
      "Epoch 00023: val_Original_CapsNet_accuracy did not improve from 0.83444\n",
      "Epoch 24/50\n",
      "8192/8192 [==============================] - 624s 76ms/step - loss: 0.4329 - Original_CapsNet_loss: 0.0960 - Generator_loss: 0.8595 - Original_CapsNet_accuracy: 0.8573 - Generator_accuracy: 0.8229 - val_loss: 0.4477 - val_Original_CapsNet_loss: 0.1059 - val_Generator_loss: 0.8720 - val_Original_CapsNet_accuracy: 0.8340 - val_Generator_accuracy: 0.8310\n",
      "\n",
      "Epoch 00024: val_Original_CapsNet_accuracy did not improve from 0.83444\n",
      "Epoch 25/50\n",
      "8192/8192 [==============================] - 624s 76ms/step - loss: 0.4326 - Original_CapsNet_loss: 0.0958 - Generator_loss: 0.8594 - Original_CapsNet_accuracy: 0.8571 - Generator_accuracy: 0.8228 - val_loss: 0.4597 - val_Original_CapsNet_loss: 0.1177 - val_Generator_loss: 0.8724 - val_Original_CapsNet_accuracy: 0.8116 - val_Generator_accuracy: 0.8323\n",
      "\n",
      "Epoch 00025: val_Original_CapsNet_accuracy did not improve from 0.83444\n",
      "Epoch 26/50\n",
      "8192/8192 [==============================] - 623s 76ms/step - loss: 0.4316 - Original_CapsNet_loss: 0.0948 - Generator_loss: 0.8592 - Original_CapsNet_accuracy: 0.8586 - Generator_accuracy: 0.8231 - val_loss: 0.4536 - val_Original_CapsNet_loss: 0.1115 - val_Generator_loss: 0.8728 - val_Original_CapsNet_accuracy: 0.8257 - val_Generator_accuracy: 0.8276\n",
      "\n",
      "Epoch 00026: val_Original_CapsNet_accuracy did not improve from 0.83444\n",
      "Epoch 27/50\n",
      "8192/8192 [==============================] - 623s 76ms/step - loss: 0.4310 - Original_CapsNet_loss: 0.0942 - Generator_loss: 0.8591 - Original_CapsNet_accuracy: 0.8596 - Generator_accuracy: 0.8232 - val_loss: 0.4554 - val_Original_CapsNet_loss: 0.1134 - val_Generator_loss: 0.8724 - val_Original_CapsNet_accuracy: 0.8198 - val_Generator_accuracy: 0.8263\n",
      "\n",
      "Epoch 00027: val_Original_CapsNet_accuracy did not improve from 0.83444\n",
      "Epoch 28/50\n",
      "8192/8192 [==============================] - 624s 76ms/step - loss: 0.4301 - Original_CapsNet_loss: 0.0934 - Generator_loss: 0.8589 - Original_CapsNet_accuracy: 0.8608 - Generator_accuracy: 0.8239 - val_loss: 0.4618 - val_Original_CapsNet_loss: 0.1198 - val_Generator_loss: 0.8725 - val_Original_CapsNet_accuracy: 0.8103 - val_Generator_accuracy: 0.8268\n",
      "\n",
      "Epoch 00028: val_Original_CapsNet_accuracy did not improve from 0.83444\n",
      "Epoch 29/50\n",
      "8192/8192 [==============================] - 624s 76ms/step - loss: 0.4299 - Original_CapsNet_loss: 0.0931 - Generator_loss: 0.8591 - Original_CapsNet_accuracy: 0.8615 - Generator_accuracy: 0.8233 - val_loss: 0.4504 - val_Original_CapsNet_loss: 0.1087 - val_Generator_loss: 0.8718 - val_Original_CapsNet_accuracy: 0.8278 - val_Generator_accuracy: 0.8312\n",
      "\n",
      "Epoch 00029: val_Original_CapsNet_accuracy did not improve from 0.83444\n",
      "Epoch 30/50\n",
      "8192/8192 [==============================] - 624s 76ms/step - loss: 0.4289 - Original_CapsNet_loss: 0.0922 - Generator_loss: 0.8588 - Original_CapsNet_accuracy: 0.8633 - Generator_accuracy: 0.8237 - val_loss: 0.4459 - val_Original_CapsNet_loss: 0.1041 - val_Generator_loss: 0.8718 - val_Original_CapsNet_accuracy: 0.8359 - val_Generator_accuracy: 0.8307\n",
      "\n",
      "Epoch 00030: val_Original_CapsNet_accuracy improved from 0.83444 to 0.83594, saving model to bin/original_capsnet_PATCH_CAMELYON_new_train.h5\n",
      "Epoch 31/50\n",
      "8192/8192 [==============================] - 624s 76ms/step - loss: 0.4281 - Original_CapsNet_loss: 0.0915 - Generator_loss: 0.8587 - Original_CapsNet_accuracy: 0.8642 - Generator_accuracy: 0.8238 - val_loss: 0.4475 - val_Original_CapsNet_loss: 0.1058 - val_Generator_loss: 0.8717 - val_Original_CapsNet_accuracy: 0.8327 - val_Generator_accuracy: 0.8295\n",
      "\n",
      "Epoch 00031: val_Original_CapsNet_accuracy did not improve from 0.83594\n",
      "Epoch 32/50\n",
      "8192/8192 [==============================] - 623s 76ms/step - loss: 0.4274 - Original_CapsNet_loss: 0.0907 - Generator_loss: 0.8587 - Original_CapsNet_accuracy: 0.8654 - Generator_accuracy: 0.8240 - val_loss: 0.4530 - val_Original_CapsNet_loss: 0.1113 - val_Generator_loss: 0.8716 - val_Original_CapsNet_accuracy: 0.8252 - val_Generator_accuracy: 0.8302\n",
      "\n",
      "Epoch 00032: val_Original_CapsNet_accuracy did not improve from 0.83594\n",
      "Epoch 33/50\n",
      "8192/8192 [==============================] - 624s 76ms/step - loss: 0.4268 - Original_CapsNet_loss: 0.0902 - Generator_loss: 0.8586 - Original_CapsNet_accuracy: 0.8667 - Generator_accuracy: 0.8239 - val_loss: 0.4525 - val_Original_CapsNet_loss: 0.1108 - val_Generator_loss: 0.8717 - val_Original_CapsNet_accuracy: 0.8252 - val_Generator_accuracy: 0.8299\n",
      "\n",
      "Epoch 00033: val_Original_CapsNet_accuracy did not improve from 0.83594\n",
      "Epoch 34/50\n",
      "8192/8192 [==============================] - 623s 76ms/step - loss: 0.4262 - Original_CapsNet_loss: 0.0896 - Generator_loss: 0.8586 - Original_CapsNet_accuracy: 0.8677 - Generator_accuracy: 0.8240 - val_loss: 0.4502 - val_Original_CapsNet_loss: 0.1086 - val_Generator_loss: 0.8714 - val_Original_CapsNet_accuracy: 0.8304 - val_Generator_accuracy: 0.8271\n",
      "\n",
      "Epoch 00034: val_Original_CapsNet_accuracy did not improve from 0.83594\n",
      "Epoch 35/50\n",
      "8192/8192 [==============================] - 624s 76ms/step - loss: 0.4260 - Original_CapsNet_loss: 0.0894 - Generator_loss: 0.8585 - Original_CapsNet_accuracy: 0.8682 - Generator_accuracy: 0.8243 - val_loss: 0.4463 - val_Original_CapsNet_loss: 0.1047 - val_Generator_loss: 0.8717 - val_Original_CapsNet_accuracy: 0.8362 - val_Generator_accuracy: 0.8297\n",
      "\n",
      "Epoch 00035: val_Original_CapsNet_accuracy improved from 0.83594 to 0.83618, saving model to bin/original_capsnet_PATCH_CAMELYON_new_train.h5\n",
      "Epoch 36/50\n",
      "8192/8192 [==============================] - 625s 76ms/step - loss: 0.4252 - Original_CapsNet_loss: 0.0887 - Generator_loss: 0.8584 - Original_CapsNet_accuracy: 0.8692 - Generator_accuracy: 0.8243 - val_loss: 0.4478 - val_Original_CapsNet_loss: 0.1063 - val_Generator_loss: 0.8712 - val_Original_CapsNet_accuracy: 0.8323 - val_Generator_accuracy: 0.8307\n",
      "\n",
      "Epoch 00036: val_Original_CapsNet_accuracy did not improve from 0.83618\n",
      "Epoch 37/50\n",
      "8192/8192 [==============================] - 623s 76ms/step - loss: 0.4241 - Original_CapsNet_loss: 0.0876 - Generator_loss: 0.8584 - Original_CapsNet_accuracy: 0.8710 - Generator_accuracy: 0.8249 - val_loss: 0.4695 - val_Original_CapsNet_loss: 0.1279 - val_Generator_loss: 0.8715 - val_Original_CapsNet_accuracy: 0.8015 - val_Generator_accuracy: 0.8256\n",
      "\n",
      "Epoch 00037: val_Original_CapsNet_accuracy did not improve from 0.83618\n",
      "Epoch 38/50\n",
      "8192/8192 [==============================] - 623s 76ms/step - loss: 0.4234 - Original_CapsNet_loss: 0.0870 - Generator_loss: 0.8582 - Original_CapsNet_accuracy: 0.8721 - Generator_accuracy: 0.8247 - val_loss: 0.4549 - val_Original_CapsNet_loss: 0.1133 - val_Generator_loss: 0.8713 - val_Original_CapsNet_accuracy: 0.8238 - val_Generator_accuracy: 0.8283\n",
      "\n",
      "Epoch 00038: val_Original_CapsNet_accuracy did not improve from 0.83618\n",
      "Epoch 39/50\n",
      "8192/8192 [==============================] - 614s 75ms/step - loss: 0.4235 - Original_CapsNet_loss: 0.0871 - Generator_loss: 0.8583 - Original_CapsNet_accuracy: 0.8716 - Generator_accuracy: 0.8248 - val_loss: 0.4566 - val_Original_CapsNet_loss: 0.1150 - val_Generator_loss: 0.8716 - val_Original_CapsNet_accuracy: 0.8169 - val_Generator_accuracy: 0.8287\n",
      "\n",
      "Epoch 00039: val_Original_CapsNet_accuracy did not improve from 0.83618\n",
      "Epoch 40/50\n",
      "8192/8192 [==============================] - 613s 75ms/step - loss: 0.4225 - Original_CapsNet_loss: 0.0862 - Generator_loss: 0.8581 - Original_CapsNet_accuracy: 0.8737 - Generator_accuracy: 0.8245 - val_loss: 0.4549 - val_Original_CapsNet_loss: 0.1134 - val_Generator_loss: 0.8711 - val_Original_CapsNet_accuracy: 0.8190 - val_Generator_accuracy: 0.8278\n",
      "\n",
      "Epoch 00040: val_Original_CapsNet_accuracy did not improve from 0.83618\n",
      "Epoch 41/50\n",
      "8192/8192 [==============================] - 611s 75ms/step - loss: 0.4220 - Original_CapsNet_loss: 0.0857 - Generator_loss: 0.8581 - Original_CapsNet_accuracy: 0.8740 - Generator_accuracy: 0.8250 - val_loss: 0.4484 - val_Original_CapsNet_loss: 0.1069 - val_Generator_loss: 0.8711 - val_Original_CapsNet_accuracy: 0.8358 - val_Generator_accuracy: 0.8291\n",
      "\n",
      "Epoch 00041: val_Original_CapsNet_accuracy did not improve from 0.83618\n",
      "Epoch 42/50\n",
      "8192/8192 [==============================] - 620s 76ms/step - loss: 0.4214 - Original_CapsNet_loss: 0.0851 - Generator_loss: 0.8579 - Original_CapsNet_accuracy: 0.8753 - Generator_accuracy: 0.8252 - val_loss: 0.4487 - val_Original_CapsNet_loss: 0.1072 - val_Generator_loss: 0.8712 - val_Original_CapsNet_accuracy: 0.8311 - val_Generator_accuracy: 0.8327\n",
      "\n",
      "Epoch 00042: val_Original_CapsNet_accuracy did not improve from 0.83618\n",
      "Epoch 43/50\n",
      "8192/8192 [==============================] - 623s 76ms/step - loss: 0.4209 - Original_CapsNet_loss: 0.0846 - Generator_loss: 0.8579 - Original_CapsNet_accuracy: 0.8770 - Generator_accuracy: 0.8256 - val_loss: 0.4499 - val_Original_CapsNet_loss: 0.1085 - val_Generator_loss: 0.8709 - val_Original_CapsNet_accuracy: 0.8284 - val_Generator_accuracy: 0.8323\n",
      "\n",
      "Epoch 00043: val_Original_CapsNet_accuracy did not improve from 0.83618\n",
      "Epoch 44/50\n",
      "8192/8192 [==============================] - 624s 76ms/step - loss: 0.4204 - Original_CapsNet_loss: 0.0841 - Generator_loss: 0.8578 - Original_CapsNet_accuracy: 0.8771 - Generator_accuracy: 0.8257 - val_loss: 0.4477 - val_Original_CapsNet_loss: 0.1064 - val_Generator_loss: 0.8709 - val_Original_CapsNet_accuracy: 0.8358 - val_Generator_accuracy: 0.8301\n",
      "\n",
      "Epoch 00044: val_Original_CapsNet_accuracy did not improve from 0.83618\n",
      "Epoch 45/50\n",
      "8192/8192 [==============================] - 623s 76ms/step - loss: 0.4197 - Original_CapsNet_loss: 0.0833 - Generator_loss: 0.8580 - Original_CapsNet_accuracy: 0.8783 - Generator_accuracy: 0.8254 - val_loss: 0.4442 - val_Original_CapsNet_loss: 0.1028 - val_Generator_loss: 0.8709 - val_Original_CapsNet_accuracy: 0.8393 - val_Generator_accuracy: 0.8320\n",
      "\n",
      "Epoch 00045: val_Original_CapsNet_accuracy improved from 0.83618 to 0.83926, saving model to bin/original_capsnet_PATCH_CAMELYON_new_train.h5\n",
      "Epoch 46/50\n",
      "8192/8192 [==============================] - 624s 76ms/step - loss: 0.4193 - Original_CapsNet_loss: 0.0830 - Generator_loss: 0.8578 - Original_CapsNet_accuracy: 0.8788 - Generator_accuracy: 0.8260 - val_loss: 0.4529 - val_Original_CapsNet_loss: 0.1114 - val_Generator_loss: 0.8711 - val_Original_CapsNet_accuracy: 0.8244 - val_Generator_accuracy: 0.8311\n",
      "\n",
      "Epoch 00046: val_Original_CapsNet_accuracy did not improve from 0.83926\n",
      "Epoch 47/50\n",
      "8192/8192 [==============================] - 622s 76ms/step - loss: 0.4188 - Original_CapsNet_loss: 0.0826 - Generator_loss: 0.8577 - Original_CapsNet_accuracy: 0.8797 - Generator_accuracy: 0.8257 - val_loss: 0.4453 - val_Original_CapsNet_loss: 0.1039 - val_Generator_loss: 0.8709 - val_Original_CapsNet_accuracy: 0.8391 - val_Generator_accuracy: 0.8311\n",
      "\n",
      "Epoch 00047: val_Original_CapsNet_accuracy did not improve from 0.83926\n",
      "Epoch 48/50\n",
      "8192/8192 [==============================] - 621s 76ms/step - loss: 0.4183 - Original_CapsNet_loss: 0.0821 - Generator_loss: 0.8577 - Original_CapsNet_accuracy: 0.8807 - Generator_accuracy: 0.8257 - val_loss: 0.4526 - val_Original_CapsNet_loss: 0.1113 - val_Generator_loss: 0.8707 - val_Original_CapsNet_accuracy: 0.8223 - val_Generator_accuracy: 0.8320\n",
      "\n",
      "Epoch 00048: val_Original_CapsNet_accuracy did not improve from 0.83926\n",
      "Epoch 49/50\n",
      "8192/8192 [==============================] - 624s 76ms/step - loss: 0.4177 - Original_CapsNet_loss: 0.0815 - Generator_loss: 0.8576 - Original_CapsNet_accuracy: 0.8811 - Generator_accuracy: 0.8258 - val_loss: 0.4586 - val_Original_CapsNet_loss: 0.1172 - val_Generator_loss: 0.8709 - val_Original_CapsNet_accuracy: 0.8137 - val_Generator_accuracy: 0.8301\n",
      "\n",
      "Epoch 00049: val_Original_CapsNet_accuracy did not improve from 0.83926\n",
      "Epoch 50/50\n",
      "8192/8192 [==============================] - 623s 76ms/step - loss: 0.4172 - Original_CapsNet_loss: 0.0810 - Generator_loss: 0.8576 - Original_CapsNet_accuracy: 0.8820 - Generator_accuracy: 0.8263 - val_loss: 0.4539 - val_Original_CapsNet_loss: 0.1126 - val_Generator_loss: 0.8707 - val_Original_CapsNet_accuracy: 0.8222 - val_Generator_accuracy: 0.8313\n",
      "\n",
      "Epoch 00050: val_Original_CapsNet_accuracy did not improve from 0.83926\n"
     ]
    }
   ],
   "metadata": {
    "ExecuteTime": {
     "end_time": "2021-01-26T11:41:04.159142Z",
     "start_time": "2021-01-26T11:40:57.403433Z"
    }
   }
  },
  {
   "cell_type": "code",
   "execution_count": 8,
   "source": [
    "plotHistory(history)"
   ],
   "outputs": [
    {
     "output_type": "display_data",
     "data": {
      "image/png": "[encoded data removed]",
      "text/plain": [
       "<Figure size 576x360 with 1 Axes>"
      ]
     },
     "metadata": {
      "needs_background": "light"
     }
    }
   ],
   "metadata": {}
  }
 ],
 "metadata": {
  "kernelspec": {
   "name": "python3",
   "display_name": "Python 3.6.9 64-bit"
  },
  "language_info": {
   "codemirror_mode": {
    "name": "ipython",
    "version": 3
   },
   "file_extension": ".py",
   "mimetype": "text/x-python",
   "name": "python",
   "nbconvert_exporter": "python",
   "pygments_lexer": "ipython3",
   "version": "3.6.9"
  },
  "toc": {
   "base_numbering": 1,
   "nav_menu": {},
   "number_sections": false,
   "sideBar": true,
   "skip_h1_title": false,
   "title_cell": "Table of Contents",
   "title_sidebar": "Contents",
   "toc_cell": false,
   "toc_position": {},
   "toc_section_display": true,
   "toc_window_display": false
  },
  "varInspector": {
   "cols": {
    "lenName": 16,
    "lenType": 16,
    "lenVar": 40
   },
   "kernels_config": {
    "python": {
     "delete_cmd_postfix": "",
     "delete_cmd_prefix": "del ",
     "library": "var_list.py",
     "varRefreshCmd": "print(var_dic_list())"
    },
    "r": {
     "delete_cmd_postfix": ") ",
     "delete_cmd_prefix": "rm(",
     "library": "var_list.r",
     "varRefreshCmd": "cat(var_dic_list()) "
    }
   },
   "types_to_exclude": [
    "module",
    "function",
    "builtin_function_or_method",
    "instance",
    "_Feature"
   ],
   "window_display": false
  },
  "interpreter": {
   "hash": "31f2aee4e71d21fbe5cf8b01ff0e069b9275f58929596ceb00d14d90e3e16cd6"
  }
 },
 "nbformat": 4,
 "nbformat_minor": 4
}