{
 "cells": [
  {
   "cell_type": "code",
   "execution_count": 1,
   "source": [
    "import tensorflow as tf\n",
    "import utils.dataset as dset\n",
    "import tensorflow_addons as tfa"
   ],
   "outputs": [],
   "metadata": {}
  },
  {
   "cell_type": "markdown",
   "source": [
    "# Baseline CNN model\n",
    "Let's define a baseline CNN model using well known best practices.\n",
    "\n",
    "The first layer is the input layer with shape (None, 48, 48, 3) because in the preprocessing the original patch_camelyon images (96x96x3) are:\n",
    "1. Rescaled to (64, 64, 3).\n",
    "2. Random cropped to (48, 48, 3)."
   ],
   "metadata": {}
  },
  {
   "cell_type": "code",
   "execution_count": 2,
   "source": [
    "# Input layer\n",
    "input = tf.keras.layers.Input((48, 48, 3))"
   ],
   "outputs": [],
   "metadata": {}
  },
  {
   "cell_type": "code",
   "execution_count": 3,
   "source": [
    "x = tf.keras.layers.Conv2D(64, 5, activation=None)(input)\n",
    "x = tf.keras.layers.LeakyReLU()(x)\n",
    "x = tfa.layers.InstanceNormalization(axis=3,\n",
    "                                     center=True,\n",
    "                                     scale=True,\n",
    "                                     beta_initializer=\"random_uniform\",\n",
    "                                     gamma_initializer=\"random_uniform\")(x)"
   ],
   "outputs": [],
   "metadata": {}
  },
  {
   "cell_type": "code",
   "execution_count": 4,
   "source": [
    "x = tf.keras.layers.Conv2D(128, 3, activation=None)(x)\n",
    "x = tf.keras.layers.LeakyReLU()(x)\n",
    "x = tfa.layers.InstanceNormalization(axis=3,\n",
    "                                     center=True,\n",
    "                                     scale=True,\n",
    "                                     beta_initializer=\"random_uniform\",\n",
    "                                     gamma_initializer=\"random_uniform\")(x)\n",
    "x = tf.keras.layers.MaxPooling2D()(x)"
   ],
   "outputs": [],
   "metadata": {}
  },
  {
   "cell_type": "code",
   "execution_count": 5,
   "source": [
    "x = tf.keras.layers.Conv2D(128, 3, activation=None)(x)\n",
    "x = tf.keras.layers.LeakyReLU()(x)\n",
    "x = tfa.layers.InstanceNormalization(axis=3,\n",
    "                                     center=True,\n",
    "                                     scale=True,\n",
    "                                     beta_initializer=\"random_uniform\",\n",
    "                                     gamma_initializer=\"random_uniform\")(x)\n",
    "x = tf.keras.layers.MaxPooling2D()(x)"
   ],
   "outputs": [],
   "metadata": {}
  },
  {
   "cell_type": "code",
   "execution_count": 6,
   "source": [
    "x = tf.keras.layers.Conv2D(256, 3, activation=None, padding='same')(x)\n",
    "x = tf.keras.layers.LeakyReLU()(x)\n",
    "x = tfa.layers.InstanceNormalization(axis=3,\n",
    "                                     center=True,\n",
    "                                     scale=True,\n",
    "                                     beta_initializer=\"random_uniform\",\n",
    "                                     gamma_initializer=\"random_uniform\")(x)"
   ],
   "outputs": [],
   "metadata": {}
  },
  {
   "cell_type": "code",
   "execution_count": 7,
   "source": [
    "x = tf.keras.layers.Conv2D(256, 3, activation=None, padding='same')(x)\n",
    "x = tf.keras.layers.LeakyReLU()(x)\n",
    "x = tfa.layers.InstanceNormalization(axis=3,\n",
    "                                     center=True,\n",
    "                                     scale=True,\n",
    "                                     beta_initializer=\"random_uniform\",\n",
    "                                     gamma_initializer=\"random_uniform\")(x)\n",
    "x = tf.keras.layers.GlobalMaxPooling2D()(x)"
   ],
   "outputs": [],
   "metadata": {}
  },
  {
   "cell_type": "code",
   "execution_count": 8,
   "source": [
    "x = tf.keras.layers.Dense(512, activation=None)(x)\n",
    "x = tf.keras.layers.LeakyReLU()(x)\n",
    "x = tf.keras.layers.Dropout(0.5)(x)"
   ],
   "outputs": [],
   "metadata": {}
  },
  {
   "cell_type": "markdown",
   "source": [
    "x = tf.keras.layers.Dense(512, activation=None)(x)\n",
    "x = tf.keras.layers.LeakyReLU()(x)\n",
    "x = tf.keras.layers.Dropout(0.5)(x)"
   ],
   "metadata": {}
  },
  {
   "cell_type": "code",
   "execution_count": 10,
   "source": [
    "output = tf.keras.layers.Dense(1)(x)"
   ],
   "outputs": [],
   "metadata": {}
  },
  {
   "cell_type": "code",
   "execution_count": 11,
   "source": [
    "baseline = tf.keras.Model(input, output)"
   ],
   "outputs": [],
   "metadata": {}
  },
  {
   "cell_type": "code",
   "execution_count": 12,
   "source": [
    "baseline.summary()"
   ],
   "outputs": [
    {
     "output_type": "stream",
     "name": "stdout",
     "text": [
      "Model: \"model\"\n",
      "_________________________________________________________________\n",
      "Layer (type)                 Output Shape              Param #   \n",
      "=================================================================\n",
      "input_1 (InputLayer)         [(None, 48, 48, 3)]       0         \n",
      "_________________________________________________________________\n",
      "conv2d (Conv2D)              (None, 44, 44, 64)        4864      \n",
      "_________________________________________________________________\n",
      "leaky_re_lu (LeakyReLU)      (None, 44, 44, 64)        0         \n",
      "_________________________________________________________________\n",
      "instance_normalization (Inst (None, 44, 44, 64)        128       \n",
      "_________________________________________________________________\n",
      "conv2d_1 (Conv2D)            (None, 42, 42, 128)       73856     \n",
      "_________________________________________________________________\n",
      "leaky_re_lu_1 (LeakyReLU)    (None, 42, 42, 128)       0         \n",
      "_________________________________________________________________\n",
      "instance_normalization_1 (In (None, 42, 42, 128)       256       \n",
      "_________________________________________________________________\n",
      "max_pooling2d (MaxPooling2D) (None, 21, 21, 128)       0         \n",
      "_________________________________________________________________\n",
      "conv2d_2 (Conv2D)            (None, 19, 19, 128)       147584    \n",
      "_________________________________________________________________\n",
      "leaky_re_lu_2 (LeakyReLU)    (None, 19, 19, 128)       0         \n",
      "_________________________________________________________________\n",
      "instance_normalization_2 (In (None, 19, 19, 128)       256       \n",
      "_________________________________________________________________\n",
      "max_pooling2d_1 (MaxPooling2 (None, 9, 9, 128)         0         \n",
      "_________________________________________________________________\n",
      "conv2d_3 (Conv2D)            (None, 9, 9, 256)         295168    \n",
      "_________________________________________________________________\n",
      "leaky_re_lu_3 (LeakyReLU)    (None, 9, 9, 256)         0         \n",
      "_________________________________________________________________\n",
      "instance_normalization_3 (In (None, 9, 9, 256)         512       \n",
      "_________________________________________________________________\n",
      "conv2d_4 (Conv2D)            (None, 9, 9, 256)         590080    \n",
      "_________________________________________________________________\n",
      "leaky_re_lu_4 (LeakyReLU)    (None, 9, 9, 256)         0         \n",
      "_________________________________________________________________\n",
      "instance_normalization_4 (In (None, 9, 9, 256)         512       \n",
      "_________________________________________________________________\n",
      "global_max_pooling2d (Global (None, 256)               0         \n",
      "_________________________________________________________________\n",
      "dense (Dense)                (None, 512)               131584    \n",
      "_________________________________________________________________\n",
      "leaky_re_lu_5 (LeakyReLU)    (None, 512)               0         \n",
      "_________________________________________________________________\n",
      "dropout (Dropout)            (None, 512)               0         \n",
      "_________________________________________________________________\n",
      "dense_1 (Dense)              (None, 512)               262656    \n",
      "_________________________________________________________________\n",
      "leaky_re_lu_6 (LeakyReLU)    (None, 512)               0         \n",
      "_________________________________________________________________\n",
      "dropout_1 (Dropout)          (None, 512)               0         \n",
      "_________________________________________________________________\n",
      "dense_2 (Dense)              (None, 1)                 513       \n",
      "=================================================================\n",
      "Total params: 1,507,969\n",
      "Trainable params: 1,507,969\n",
      "Non-trainable params: 0\n",
      "_________________________________________________________________\n"
     ]
    }
   ],
   "metadata": {}
  },
  {
   "cell_type": "code",
   "execution_count": 13,
   "source": [
    "ds_train, ds_valid = dset.load_train_val_dataset()\n",
    "ds_train = dset.preprocess_train(ds_train, batch_size=64)\n",
    "ds_valid = dset.preprocess_validation(ds_valid)"
   ],
   "outputs": [],
   "metadata": {}
  },
  {
   "cell_type": "code",
   "execution_count": 14,
   "source": [
    "baseline.compile(\n",
    "    optimizer=tf.keras.optimizers.Adam(learning_rate=1e-3),\n",
    "    loss=tf.keras.losses.BinaryCrossentropy(from_logits=True),\n",
    "    metrics='binary_accuracy')"
   ],
   "outputs": [],
   "metadata": {}
  },
  {
   "cell_type": "code",
   "execution_count": 15,
   "source": [
    "callbacks = [\n",
    "    tf.keras.callbacks.ReduceLROnPlateau(factor=0.1, patience=3),\n",
    "    tf.keras.callbacks.EarlyStopping(min_delta=1e-2, patience=5)\n",
    "]"
   ],
   "outputs": [],
   "metadata": {}
  },
  {
   "cell_type": "code",
   "execution_count": 16,
   "source": [
    "baseline.fit(ds_train, epochs=50,\n",
    "             validation_data=ds_valid, callbacks=callbacks)\n"
   ],
   "outputs": [
    {
     "output_type": "stream",
     "name": "stdout",
     "text": [
      "Epoch 1/50\n",
      "4096/4096 [==============================] - 126s 30ms/step - loss: 0.4432 - binary_accuracy: 0.7824 - val_loss: 0.3908 - val_binary_accuracy: 0.8155\n",
      "Epoch 2/50\n",
      "4096/4096 [==============================] - 123s 30ms/step - loss: 0.3542 - binary_accuracy: 0.8379 - val_loss: 0.4307 - val_binary_accuracy: 0.7693\n",
      "Epoch 3/50\n",
      "4096/4096 [==============================] - 123s 30ms/step - loss: 0.3208 - binary_accuracy: 0.8576 - val_loss: 0.3807 - val_binary_accuracy: 0.8132\n",
      "Epoch 4/50\n",
      "4096/4096 [==============================] - 123s 30ms/step - loss: 0.2974 - binary_accuracy: 0.8698 - val_loss: 0.3832 - val_binary_accuracy: 0.8291\n",
      "Epoch 5/50\n",
      "4096/4096 [==============================] - 124s 30ms/step - loss: 0.2807 - binary_accuracy: 0.8792 - val_loss: 0.3738 - val_binary_accuracy: 0.8282\n",
      "Epoch 6/50\n",
      "4096/4096 [==============================] - 124s 30ms/step - loss: 0.2662 - binary_accuracy: 0.8863 - val_loss: 0.3544 - val_binary_accuracy: 0.8469\n",
      "Epoch 7/50\n",
      "4096/4096 [==============================] - 124s 30ms/step - loss: 0.2578 - binary_accuracy: 0.8907 - val_loss: 0.3451 - val_binary_accuracy: 0.8430\n",
      "Epoch 8/50\n",
      "4096/4096 [==============================] - 122s 30ms/step - loss: 0.2478 - binary_accuracy: 0.8961 - val_loss: 0.3408 - val_binary_accuracy: 0.8471\n",
      "Epoch 9/50\n",
      "4096/4096 [==============================] - 122s 30ms/step - loss: 0.2407 - binary_accuracy: 0.9000 - val_loss: 0.3624 - val_binary_accuracy: 0.8456\n",
      "Epoch 10/50\n",
      "4096/4096 [==============================] - 123s 30ms/step - loss: 0.2342 - binary_accuracy: 0.9027 - val_loss: 0.3659 - val_binary_accuracy: 0.8241\n",
      "Epoch 11/50\n",
      "4096/4096 [==============================] - 123s 30ms/step - loss: 0.2296 - binary_accuracy: 0.9048 - val_loss: 0.3452 - val_binary_accuracy: 0.8488\n",
      "Epoch 12/50\n",
      "4096/4096 [==============================] - 123s 30ms/step - loss: 0.1942 - binary_accuracy: 0.9215 - val_loss: 0.3695 - val_binary_accuracy: 0.8350\n",
      "Epoch 13/50\n",
      "4096/4096 [==============================] - 123s 30ms/step - loss: 0.1870 - binary_accuracy: 0.9245 - val_loss: 0.3992 - val_binary_accuracy: 0.8170\n"
     ]
    },
    {
     "output_type": "execute_result",
     "data": {
      "text/plain": [
       "<keras.callbacks.History at 0x7fae3c442240>"
      ]
     },
     "metadata": {},
     "execution_count": 16
    }
   ],
   "metadata": {}
  }
 ],
 "metadata": {
  "orig_nbformat": 4,
  "language_info": {
   "name": "python",
   "version": "3.6.9",
   "mimetype": "text/x-python",
   "codemirror_mode": {
    "name": "ipython",
    "version": 3
   },
   "pygments_lexer": "ipython3",
   "nbconvert_exporter": "python",
   "file_extension": ".py"
  },
  "kernelspec": {
   "name": "python3",
   "display_name": "Python 3.6.9 64-bit"
  },
  "interpreter": {
   "hash": "31f2aee4e71d21fbe5cf8b01ff0e069b9275f58929596ceb00d14d90e3e16cd6"
  }
 },
 "nbformat": 4,
 "nbformat_minor": 2
}