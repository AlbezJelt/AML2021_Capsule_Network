{
 "cells": [
  {
   "cell_type": "code",
   "execution_count": 1,
   "source": [
    "import tensorflow as tf\n",
    "import utils.dataset as dset\n",
    "import utils.model as bModel"
   ],
   "outputs": [],
   "metadata": {}
  },
  {
   "cell_type": "markdown",
   "source": [
    "# Baseline CNN model\n",
    "Let's define a baseline CNN model using well known best practices.\n"
   ],
   "metadata": {}
  },
  {
   "cell_type": "markdown",
   "source": [
    "## Load and compile the model\n"
   ],
   "metadata": {}
  },
  {
   "cell_type": "code",
   "execution_count": 2,
   "source": [
    "baseline = bModel.get_model()\n",
    "baseline.summary()"
   ],
   "outputs": [
    {
     "output_type": "stream",
     "name": "stdout",
     "text": [
      "Model: \"model\"\n",
      "_________________________________________________________________\n",
      "Layer (type)                 Output Shape              Param #   \n",
      "=================================================================\n",
      "input_1 (InputLayer)         [(None, 48, 48, 3)]       0         \n",
      "_________________________________________________________________\n",
      "conv2d (Conv2D)              (None, 44, 44, 32)        2432      \n",
      "_________________________________________________________________\n",
      "leaky_re_lu (LeakyReLU)      (None, 44, 44, 32)        0         \n",
      "_________________________________________________________________\n",
      "instance_normalization (Inst (None, 44, 44, 32)        64        \n",
      "_________________________________________________________________\n",
      "conv2d_1 (Conv2D)            (None, 42, 42, 64)        18496     \n",
      "_________________________________________________________________\n",
      "leaky_re_lu_1 (LeakyReLU)    (None, 42, 42, 64)        0         \n",
      "_________________________________________________________________\n",
      "instance_normalization_1 (In (None, 42, 42, 64)        128       \n",
      "_________________________________________________________________\n",
      "max_pooling2d (MaxPooling2D) (None, 21, 21, 64)        0         \n",
      "_________________________________________________________________\n",
      "conv2d_2 (Conv2D)            (None, 19, 19, 64)        36928     \n",
      "_________________________________________________________________\n",
      "leaky_re_lu_2 (LeakyReLU)    (None, 19, 19, 64)        0         \n",
      "_________________________________________________________________\n",
      "instance_normalization_2 (In (None, 19, 19, 64)        128       \n",
      "_________________________________________________________________\n",
      "max_pooling2d_1 (MaxPooling2 (None, 9, 9, 64)          0         \n",
      "_________________________________________________________________\n",
      "conv2d_3 (Conv2D)            (None, 9, 9, 128)         73856     \n",
      "_________________________________________________________________\n",
      "leaky_re_lu_3 (LeakyReLU)    (None, 9, 9, 128)         0         \n",
      "_________________________________________________________________\n",
      "instance_normalization_3 (In (None, 9, 9, 128)         256       \n",
      "_________________________________________________________________\n",
      "conv2d_4 (Conv2D)            (None, 9, 9, 128)         147584    \n",
      "_________________________________________________________________\n",
      "leaky_re_lu_4 (LeakyReLU)    (None, 9, 9, 128)         0         \n",
      "_________________________________________________________________\n",
      "instance_normalization_4 (In (None, 9, 9, 128)         256       \n",
      "_________________________________________________________________\n",
      "global_max_pooling2d (Global (None, 128)               0         \n",
      "_________________________________________________________________\n",
      "dense (Dense)                (None, 256)               33024     \n",
      "_________________________________________________________________\n",
      "leaky_re_lu_5 (LeakyReLU)    (None, 256)               0         \n",
      "_________________________________________________________________\n",
      "dropout (Dropout)            (None, 256)               0         \n",
      "_________________________________________________________________\n",
      "dense_1 (Dense)              (None, 256)               65792     \n",
      "_________________________________________________________________\n",
      "leaky_re_lu_6 (LeakyReLU)    (None, 256)               0         \n",
      "_________________________________________________________________\n",
      "dropout_1 (Dropout)          (None, 256)               0         \n",
      "_________________________________________________________________\n",
      "dense_2 (Dense)              (None, 1)                 257       \n",
      "=================================================================\n",
      "Total params: 379,201\n",
      "Trainable params: 379,201\n",
      "Non-trainable params: 0\n",
      "_________________________________________________________________\n"
     ]
    }
   ],
   "metadata": {}
  },
  {
   "cell_type": "markdown",
   "source": [
    "The model is compiled using binary crossentropy as loss function, Adam optimizer and accuracy as metric."
   ],
   "metadata": {}
  },
  {
   "cell_type": "code",
   "execution_count": 3,
   "source": [
    "baseline.compile(\n",
    "    optimizer=tf.keras.optimizers.Adam(learning_rate=5e-4),\n",
    "    loss=tf.keras.losses.BinaryCrossentropy(from_logits=True),\n",
    "    metrics='binary_accuracy')"
   ],
   "outputs": [],
   "metadata": {}
  },
  {
   "cell_type": "code",
   "execution_count": 4,
   "source": [
    "# Callbacks for early stopping and reducing learning rate on plateau\n",
    "# Both monitor validation loss\n",
    "callbacks = [\n",
    "    tf.keras.callbacks.ReduceLROnPlateau(factor=0.1, patience=5, monitor='val_loss'),\n",
    "    tf.keras.callbacks.EarlyStopping(min_delta=1e-2, patience=10, monitor='val_loss')\n",
    "]"
   ],
   "outputs": [],
   "metadata": {}
  },
  {
   "cell_type": "markdown",
   "source": [
    "## Load the dataset for training"
   ],
   "metadata": {}
  },
  {
   "cell_type": "code",
   "execution_count": 5,
   "source": [
    "ds_train, ds_valid = dset.load_train_val_dataset()\n",
    "\n",
    "# Preprocessing\n",
    "ds_train = dset.preprocess_train(ds_train, batch_size=64)\n",
    "ds_valid = dset.preprocess_validation(ds_valid)"
   ],
   "outputs": [],
   "metadata": {}
  },
  {
   "cell_type": "markdown",
   "source": [
    "## Training"
   ],
   "metadata": {}
  },
  {
   "cell_type": "code",
   "execution_count": 6,
   "source": [
    "baseline.fit(ds_train, epochs=50,\n",
    "             validation_data=ds_valid, callbacks=callbacks)\n"
   ],
   "outputs": [
    {
     "output_type": "stream",
     "name": "stdout",
     "text": [
      "Epoch 1/50\n",
      "4096/4096 [==============================] - 61s 14ms/step - loss: 0.4426 - binary_accuracy: 0.7779 - val_loss: 0.3988 - val_binary_accuracy: 0.8173\n",
      "Epoch 2/50\n",
      "4096/4096 [==============================] - 59s 14ms/step - loss: 0.3567 - binary_accuracy: 0.8369 - val_loss: 0.3871 - val_binary_accuracy: 0.8147\n",
      "Epoch 3/50\n",
      "4096/4096 [==============================] - 61s 15ms/step - loss: 0.3274 - binary_accuracy: 0.8545 - val_loss: 0.3775 - val_binary_accuracy: 0.8201\n",
      "Epoch 4/50\n",
      "4096/4096 [==============================] - 61s 15ms/step - loss: 0.3080 - binary_accuracy: 0.8651 - val_loss: 0.3841 - val_binary_accuracy: 0.8335\n",
      "Epoch 5/50\n",
      "4096/4096 [==============================] - 61s 15ms/step - loss: 0.2941 - binary_accuracy: 0.8720 - val_loss: 0.3702 - val_binary_accuracy: 0.8228\n",
      "Epoch 6/50\n",
      "4096/4096 [==============================] - 61s 15ms/step - loss: 0.2841 - binary_accuracy: 0.8772 - val_loss: 0.3496 - val_binary_accuracy: 0.8394\n",
      "Epoch 7/50\n",
      "4096/4096 [==============================] - 61s 15ms/step - loss: 0.2749 - binary_accuracy: 0.8817 - val_loss: 0.3380 - val_binary_accuracy: 0.8492\n",
      "Epoch 8/50\n",
      "4096/4096 [==============================] - 61s 15ms/step - loss: 0.2678 - binary_accuracy: 0.8861 - val_loss: 0.4154 - val_binary_accuracy: 0.8190\n",
      "Epoch 9/50\n",
      "4096/4096 [==============================] - 61s 15ms/step - loss: 0.2614 - binary_accuracy: 0.8891 - val_loss: 0.3706 - val_binary_accuracy: 0.8285\n",
      "Epoch 10/50\n",
      "4096/4096 [==============================] - 61s 15ms/step - loss: 0.2552 - binary_accuracy: 0.8924 - val_loss: 0.3575 - val_binary_accuracy: 0.8394\n",
      "Epoch 11/50\n",
      "4096/4096 [==============================] - 61s 15ms/step - loss: 0.2516 - binary_accuracy: 0.8931 - val_loss: 0.3312 - val_binary_accuracy: 0.8528\n",
      "Epoch 12/50\n",
      "4096/4096 [==============================] - 62s 15ms/step - loss: 0.2465 - binary_accuracy: 0.8963 - val_loss: 0.3382 - val_binary_accuracy: 0.8371\n",
      "Epoch 13/50\n",
      "4096/4096 [==============================] - 62s 15ms/step - loss: 0.2430 - binary_accuracy: 0.8979 - val_loss: 0.3453 - val_binary_accuracy: 0.8328\n",
      "Epoch 14/50\n",
      "4096/4096 [==============================] - 62s 15ms/step - loss: 0.2392 - binary_accuracy: 0.8999 - val_loss: 0.3945 - val_binary_accuracy: 0.8195\n",
      "Epoch 15/50\n",
      "4096/4096 [==============================] - 62s 15ms/step - loss: 0.2352 - binary_accuracy: 0.9017 - val_loss: 0.3779 - val_binary_accuracy: 0.8273\n",
      "Epoch 16/50\n",
      "4096/4096 [==============================] - 61s 15ms/step - loss: 0.2319 - binary_accuracy: 0.9037 - val_loss: 0.3479 - val_binary_accuracy: 0.8414\n",
      "Epoch 17/50\n",
      "4096/4096 [==============================] - 61s 15ms/step - loss: 0.2049 - binary_accuracy: 0.9166 - val_loss: 0.3637 - val_binary_accuracy: 0.8336\n"
     ]
    },
    {
     "output_type": "execute_result",
     "data": {
      "text/plain": [
       "<keras.callbacks.History at 0x7f5706b5d860>"
      ]
     },
     "metadata": {},
     "execution_count": 6
    }
   ],
   "metadata": {}
  },
  {
   "cell_type": "markdown",
   "source": [
    "## Save the model"
   ],
   "metadata": {}
  },
  {
   "cell_type": "code",
   "execution_count": 7,
   "source": [
    "from utils.dataset import base_path as cwd\n",
    "\n",
    "baseline.save_weights(f\"{cwd}/Baseline CNN/bin/baselineCNN.h5\")"
   ],
   "outputs": [],
   "metadata": {}
  }
 ],
 "metadata": {
  "orig_nbformat": 4,
  "language_info": {
   "name": "python",
   "version": "3.6.9",
   "mimetype": "text/x-python",
   "codemirror_mode": {
    "name": "ipython",
    "version": 3
   },
   "pygments_lexer": "ipython3",
   "nbconvert_exporter": "python",
   "file_extension": ".py"
  },
  "kernelspec": {
   "name": "python3",
   "display_name": "Python 3.6.9 64-bit"
  },
  "interpreter": {
   "hash": "31f2aee4e71d21fbe5cf8b01ff0e069b9275f58929596ceb00d14d90e3e16cd6"
  }
 },
 "nbformat": 4,
 "nbformat_minor": 2
}